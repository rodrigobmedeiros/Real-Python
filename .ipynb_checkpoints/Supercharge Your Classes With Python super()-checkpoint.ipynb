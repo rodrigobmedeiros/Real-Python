{
 "cells": [
  {
   "cell_type": "markdown",
   "id": "bb1c2ad2",
   "metadata": {},
   "source": [
    "# Definições\n",
    "\n",
    "__Objects:__ É uma forma de agrupar dados e métodos de forma que façam sentido. É natural que os métodos operem em cima dos dados do objeto (atributos).\n",
    "\n",
    "__Class:__ Define como os objetos serão criados, é uma espécie de molde.\n",
    "\n",
    "Para criar uma classe, utilizo a palavra chave `class` como mostrado a seguir:\n",
    "\n",
    "```python\n",
    "class Square:\n",
    "    # Utilizamos a palavra 'pass' para não precisar codar em determinado namespace\n",
    "    pass\n",
    "```\n",
    "\n",
    "Para instanciar um objeto, simplesmente utilizo o nome da classe associado ao parêntesis o que representa uma chamada. Associo a uma variável, assim, alocando a informação na memória."
   ]
  },
  {
   "cell_type": "code",
   "execution_count": 1,
   "id": "ddff3f1f",
   "metadata": {},
   "outputs": [],
   "source": [
    "class Square():\n",
    "    pass\n",
    "\n",
    "square = Square()\n",
    "square.length = 3"
   ]
  },
  {
   "cell_type": "markdown",
   "id": "a8df9130",
   "metadata": {},
   "source": [
    "Com a built-in function `dir` consigo listar todos os métodos e atributos de meu object. Observo que mesmo implementando o pass na classe existem vários métodos. De onde esses caras vem? Alguma sugestão? Sim! através de herança.O python mesmo sem especificar herda da classe `object`."
   ]
  },
  {
   "cell_type": "code",
   "execution_count": 3,
   "id": "5db7683f",
   "metadata": {},
   "outputs": [
    {
     "data": {
      "text/plain": [
       "['__class__',\n",
       " '__delattr__',\n",
       " '__dict__',\n",
       " '__dir__',\n",
       " '__doc__',\n",
       " '__eq__',\n",
       " '__format__',\n",
       " '__ge__',\n",
       " '__getattribute__',\n",
       " '__gt__',\n",
       " '__hash__',\n",
       " '__init__',\n",
       " '__init_subclass__',\n",
       " '__le__',\n",
       " '__lt__',\n",
       " '__module__',\n",
       " '__ne__',\n",
       " '__new__',\n",
       " '__reduce__',\n",
       " '__reduce_ex__',\n",
       " '__repr__',\n",
       " '__setattr__',\n",
       " '__sizeof__',\n",
       " '__str__',\n",
       " '__subclasshook__',\n",
       " '__weakref__',\n",
       " 'length']"
      ]
     },
     "execution_count": 3,
     "metadata": {},
     "output_type": "execute_result"
    }
   ],
   "source": [
    "dir(square)"
   ]
  },
  {
   "cell_type": "code",
   "execution_count": 5,
   "id": "1cef7400",
   "metadata": {},
   "outputs": [
    {
     "data": {
      "text/plain": [
       "'Square'"
      ]
     },
     "execution_count": 5,
     "metadata": {},
     "output_type": "execute_result"
    }
   ],
   "source": [
    "square.__class__.__name__"
   ]
  },
  {
   "cell_type": "code",
   "execution_count": 6,
   "id": "44e2deec",
   "metadata": {},
   "outputs": [],
   "source": [
    "class Square():\n",
    "    \n",
    "    def __init__(self, length):\n",
    "        \n",
    "        self.length = length\n",
    "        \n",
    "    def area(self):\n",
    "        \n",
    "        return self.length ** 2\n",
    "    \n",
    "    def perimeter(self):\n",
    "        \n",
    "        return 4 * self.length"
   ]
  },
  {
   "cell_type": "code",
   "execution_count": 7,
   "id": "06d6d88c",
   "metadata": {},
   "outputs": [],
   "source": [
    "square = Square(2)"
   ]
  },
  {
   "cell_type": "markdown",
   "id": "414560ec",
   "metadata": {},
   "source": [
    "# Método `init`\n",
    "\n",
    "É o método construtor, este cara é responsável por construir o estado inicial do objecto, interfaceando com o meio externo. Recebendo parâmetros que serão utilizados para as configurações iniciais.\n",
    "Agora vamos pensar um pouco na questão da herança e em como aproveitar e fazer a reutilização de código."
   ]
  },
  {
   "cell_type": "code",
   "execution_count": 42,
   "id": "421e20f3",
   "metadata": {},
   "outputs": [],
   "source": [
    "class Rectangle():\n",
    "    \n",
    "    def __init__(self, length, width):\n",
    "        print('Entrei no init da classe Rectangle')\n",
    "        self.length = length\n",
    "        self.width = width\n",
    "        \n",
    "    def area(self):\n",
    "        \n",
    "        return self.length * self.width\n",
    "    \n",
    "    def perimeter(self):\n",
    "        \n",
    "        return 2 * self.length + 2 * self.width\n",
    "    \n",
    "class Square(Rectangle):\n",
    "    \n",
    "    def __init__(self, length):\n",
    "        print('Entrei no init da classe Square')\n",
    "        super().__init__(length, length)        "
   ]
  },
  {
   "cell_type": "code",
   "execution_count": 43,
   "id": "7a1e9513",
   "metadata": {},
   "outputs": [
    {
     "name": "stdout",
     "output_type": "stream",
     "text": [
      "Entrei no init da classe Square\n",
      "Entrei no init da classe Rectangle\n"
     ]
    }
   ],
   "source": [
    "square = Square(3)"
   ]
  },
  {
   "cell_type": "code",
   "execution_count": 45,
   "id": "5af94fe5",
   "metadata": {},
   "outputs": [
    {
     "data": {
      "text/plain": [
       "9"
      ]
     },
     "metadata": {},
     "output_type": "display_data"
    },
    {
     "data": {
      "text/plain": [
       "12"
      ]
     },
     "metadata": {},
     "output_type": "display_data"
    }
   ],
   "source": [
    "display(square.area())\n",
    "display(square.perimeter())"
   ]
  },
  {
   "cell_type": "code",
   "execution_count": 46,
   "id": "7774ab17",
   "metadata": {},
   "outputs": [
    {
     "data": {
      "text/plain": [
       "['__class__',\n",
       " '__delattr__',\n",
       " '__dict__',\n",
       " '__dir__',\n",
       " '__doc__',\n",
       " '__eq__',\n",
       " '__format__',\n",
       " '__ge__',\n",
       " '__getattribute__',\n",
       " '__gt__',\n",
       " '__hash__',\n",
       " '__init__',\n",
       " '__init_subclass__',\n",
       " '__le__',\n",
       " '__lt__',\n",
       " '__module__',\n",
       " '__ne__',\n",
       " '__new__',\n",
       " '__reduce__',\n",
       " '__reduce_ex__',\n",
       " '__repr__',\n",
       " '__setattr__',\n",
       " '__sizeof__',\n",
       " '__str__',\n",
       " '__subclasshook__',\n",
       " '__weakref__',\n",
       " 'area',\n",
       " 'length',\n",
       " 'perimeter',\n",
       " 'width']"
      ]
     },
     "execution_count": 46,
     "metadata": {},
     "output_type": "execute_result"
    }
   ],
   "source": [
    "dir(square)"
   ]
  },
  {
   "cell_type": "markdown",
   "id": "c8a350a9",
   "metadata": {},
   "source": [
    "Percebe-se que ao herdar da classe retangulo, consigo acessar o init da superclasse criando assim tudo que há nele, como observado ao rodar a built-in function `dir`. Agora uma questão que não consegui sacar assim de cara, como o `super()` consegue pegar a instancia, pois explicitamente esta não é passada em nenhum momento. \n",
    "\n",
    "Espero responder esta pergunta."
   ]
  },
  {
   "cell_type": "code",
   "execution_count": 50,
   "id": "f7c3e91b",
   "metadata": {},
   "outputs": [],
   "source": [
    "class Cube(Square):\n",
    "    \n",
    "    # no need to implement __init__ method\n",
    "    \n",
    "    def surface_area(self):\n",
    "        \n",
    "        face_area = self.area()\n",
    "        \n",
    "        return 6 * face_area\n",
    "    \n",
    "    def volume(self):\n",
    "        \n",
    "        face_area = super().area()\n",
    "        \n",
    "        return face_area * self.length"
   ]
  },
  {
   "cell_type": "code",
   "execution_count": 51,
   "id": "5ee09943",
   "metadata": {},
   "outputs": [
    {
     "name": "stdout",
     "output_type": "stream",
     "text": [
      "Entrei no init da classe Square\n",
      "Entrei no init da classe Rectangle\n"
     ]
    },
    {
     "data": {
      "text/plain": [
       "54"
      ]
     },
     "metadata": {},
     "output_type": "display_data"
    },
    {
     "data": {
      "text/plain": [
       "27"
      ]
     },
     "metadata": {},
     "output_type": "display_data"
    }
   ],
   "source": [
    "cube = Cube(3)\n",
    "display(cube.surface_area())\n",
    "display(cube.volume())"
   ]
  },
  {
   "cell_type": "markdown",
   "id": "15adede3",
   "metadata": {},
   "source": [
    "Como funciona a busca por determinado método ou atributo em um objeto?\n",
    "\n",
    "- Primeiro: verifico se o objeto em questão tem aquele atributo/método\n",
    "- Segundo: Caso não encontre a busca é feita na classe pai.\n",
    "- ... A busca nas classes pai continua até que o atributo/método seja encontrado, caso isso não aconteça, há um AttributeError."
   ]
  },
  {
   "cell_type": "markdown",
   "id": "e45cd3c5",
   "metadata": {},
   "source": [
    "Respondendo a pergunta sobre o super()\n",
    "\n",
    "Quando chamado de dentro de uma classe, automaticamente o super é chamado com a classe e com a instancia. Ou seja quando estou na classe Square e chamo super, por tras dos panos na verdade eu to chamando super(Square, self). Daí pego a classe pai de square e acesso ela, no caso a classe Rectangle.\n",
    "Fora de uma classe, eu posso utilizar o super da forma que eu quiser, daí passando corretamente a classe e instancia."
   ]
  },
  {
   "cell_type": "code",
   "execution_count": 58,
   "id": "d120332a",
   "metadata": {},
   "outputs": [],
   "source": [
    "teste = super(Square, square)"
   ]
  },
  {
   "cell_type": "code",
   "execution_count": null,
   "id": "79bd429e",
   "metadata": {},
   "outputs": [],
   "source": []
  }
 ],
 "metadata": {
  "kernelspec": {
   "display_name": "Python 3",
   "language": "python",
   "name": "python3"
  },
  "language_info": {
   "codemirror_mode": {
    "name": "ipython",
    "version": 3
   },
   "file_extension": ".py",
   "mimetype": "text/x-python",
   "name": "python",
   "nbconvert_exporter": "python",
   "pygments_lexer": "ipython3",
   "version": "3.8.8"
  }
 },
 "nbformat": 4,
 "nbformat_minor": 5
}
