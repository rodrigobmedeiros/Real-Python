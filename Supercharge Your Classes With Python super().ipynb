{
 "cells": [
  {
   "cell_type": "markdown",
   "id": "1a912d9c",
   "metadata": {},
   "source": [
    "# Definições\n",
    "\n",
    "__Objects:__ É uma forma de agrupar dados e métodos de forma que façam sentido. É natural que os métodos operem em cima dos dados do objeto (atributos).\n",
    "\n",
    "__Class:__ Define como os objetos serão criados, é uma espécie de molde.\n",
    "\n",
    "Para criar uma classe, utilizo a palavra chave `class` como mostrado a seguir:\n",
    "\n",
    "```python\n",
    "class Square:\n",
    "    # Utilizamos a palavra 'pass' para não precisar codar em determinado namespace\n",
    "    pass\n",
    "```\n",
    "\n",
    "Para instanciar um objeto, simplesmente utilizo o nome da classe associado ao parêntesis o que representa uma chamada. Associo a uma variável, assim, alocando a informação na memória."
   ]
  },
  {
   "cell_type": "code",
   "execution_count": 1,
   "id": "f1b02638",
   "metadata": {},
   "outputs": [],
   "source": [
    "class Square():\n",
    "    pass\n",
    "\n",
    "square = Square()\n",
    "square.length = 3"
   ]
  },
  {
   "cell_type": "markdown",
   "id": "106345df",
   "metadata": {},
   "source": [
    "Com a built-in function `dir` consigo listar todos os métodos e atributos de meu object. Observo que mesmo implementando o pass na classe existem vários métodos. De onde esses caras vem? Alguma sugestão? Sim! através de herança.O python mesmo sem especificar herda da classe `object`."
   ]
  },
  {
   "cell_type": "code",
   "execution_count": 3,
   "id": "25fa37c8",
   "metadata": {},
   "outputs": [
    {
     "data": {
      "text/plain": [
       "['__class__',\n",
       " '__delattr__',\n",
       " '__dict__',\n",
       " '__dir__',\n",
       " '__doc__',\n",
       " '__eq__',\n",
       " '__format__',\n",
       " '__ge__',\n",
       " '__getattribute__',\n",
       " '__gt__',\n",
       " '__hash__',\n",
       " '__init__',\n",
       " '__init_subclass__',\n",
       " '__le__',\n",
       " '__lt__',\n",
       " '__module__',\n",
       " '__ne__',\n",
       " '__new__',\n",
       " '__reduce__',\n",
       " '__reduce_ex__',\n",
       " '__repr__',\n",
       " '__setattr__',\n",
       " '__sizeof__',\n",
       " '__str__',\n",
       " '__subclasshook__',\n",
       " '__weakref__',\n",
       " 'length']"
      ]
     },
     "execution_count": 3,
     "metadata": {},
     "output_type": "execute_result"
    }
   ],
   "source": [
    "dir(square)"
   ]
  },
  {
   "cell_type": "code",
   "execution_count": 5,
   "id": "d689b496",
   "metadata": {},
   "outputs": [
    {
     "data": {
      "text/plain": [
       "'Square'"
      ]
     },
     "execution_count": 5,
     "metadata": {},
     "output_type": "execute_result"
    }
   ],
   "source": [
    "square.__class__.__name__"
   ]
  },
  {
   "cell_type": "code",
   "execution_count": 6,
   "id": "8abdb004",
   "metadata": {},
   "outputs": [],
   "source": [
    "class Square():\n",
    "    \n",
    "    def __init__(self, length):\n",
    "        \n",
    "        self.length = length\n",
    "        \n",
    "    def area(self):\n",
    "        \n",
    "        return self.length ** 2\n",
    "    \n",
    "    def perimeter(self):\n",
    "        \n",
    "        return 4 * self.length"
   ]
  },
  {
   "cell_type": "code",
   "execution_count": 7,
   "id": "df75d59f",
   "metadata": {},
   "outputs": [],
   "source": [
    "square = Square(2)"
   ]
  },
  {
   "cell_type": "markdown",
   "id": "826b8097",
   "metadata": {},
   "source": [
    "# Método `init`\n",
    "\n",
    "É o método construtor, este cara é responsável por construir o estado inicial do objecto, interfaceando com o meio externo. Recebendo parâmetros que serão utilizados para as configurações iniciais.\n",
    "Agora vamos pensar um pouco na questão da herança e em como aproveitar e fazer a reutilização de código."
   ]
  },
  {
   "cell_type": "code",
   "execution_count": 63,
   "id": "86def258",
   "metadata": {},
   "outputs": [],
   "source": [
    "class Rectangle():\n",
    "    \n",
    "    def __init__(self, length, width):\n",
    "        print('Entrei no init da classe Rectangle')\n",
    "        self.length = length\n",
    "        self.width = width\n",
    "        \n",
    "    def area(self):\n",
    "        \n",
    "        return self.length * self.width\n",
    "    \n",
    "    def perimeter(self):\n",
    "        \n",
    "        return 2 * self.length + 2 * self.width\n",
    "    \n",
    "    def who_am_i(self):\n",
    "        \n",
    "        return 'Rectangle'\n",
    "    \n",
    "class Square(Rectangle):\n",
    "    \n",
    "    def __init__(self, length):\n",
    "        print('Entrei no init da classe Square')\n",
    "        super().__init__(length, length)\n",
    "    \n",
    "    def who_am_i(self):\n",
    "        \n",
    "        return 'Square'"
   ]
  },
  {
   "cell_type": "code",
   "execution_count": 64,
   "id": "b3ce7feb",
   "metadata": {},
   "outputs": [
    {
     "name": "stdout",
     "output_type": "stream",
     "text": [
      "Entrei no init da classe Square\n",
      "Entrei no init da classe Rectangle\n"
     ]
    }
   ],
   "source": [
    "square = Square(3)"
   ]
  },
  {
   "cell_type": "code",
   "execution_count": 65,
   "id": "538a17bd",
   "metadata": {},
   "outputs": [
    {
     "data": {
      "text/plain": [
       "9"
      ]
     },
     "metadata": {},
     "output_type": "display_data"
    },
    {
     "data": {
      "text/plain": [
       "12"
      ]
     },
     "metadata": {},
     "output_type": "display_data"
    }
   ],
   "source": [
    "display(square.area())\n",
    "display(square.perimeter())"
   ]
  },
  {
   "cell_type": "code",
   "execution_count": 66,
   "id": "d598d95f",
   "metadata": {},
   "outputs": [
    {
     "data": {
      "text/plain": [
       "['__class__',\n",
       " '__delattr__',\n",
       " '__dict__',\n",
       " '__dir__',\n",
       " '__doc__',\n",
       " '__eq__',\n",
       " '__format__',\n",
       " '__ge__',\n",
       " '__getattribute__',\n",
       " '__gt__',\n",
       " '__hash__',\n",
       " '__init__',\n",
       " '__init_subclass__',\n",
       " '__le__',\n",
       " '__lt__',\n",
       " '__module__',\n",
       " '__ne__',\n",
       " '__new__',\n",
       " '__reduce__',\n",
       " '__reduce_ex__',\n",
       " '__repr__',\n",
       " '__setattr__',\n",
       " '__sizeof__',\n",
       " '__str__',\n",
       " '__subclasshook__',\n",
       " '__weakref__',\n",
       " 'area',\n",
       " 'length',\n",
       " 'perimeter',\n",
       " 'who_am_i',\n",
       " 'width']"
      ]
     },
     "execution_count": 66,
     "metadata": {},
     "output_type": "execute_result"
    }
   ],
   "source": [
    "dir(square)"
   ]
  },
  {
   "cell_type": "markdown",
   "id": "013dd7ab",
   "metadata": {},
   "source": [
    "Percebe-se que ao herdar da classe retangulo, consigo acessar o init da superclasse criando assim tudo que há nele, como observado ao rodar a built-in function `dir`. Agora uma questão que não consegui sacar assim de cara, como o `super()` consegue pegar a instancia, pois explicitamente esta não é passada em nenhum momento. \n",
    "\n",
    "Espero responder esta pergunta."
   ]
  },
  {
   "cell_type": "code",
   "execution_count": 123,
   "id": "d2ecb520",
   "metadata": {},
   "outputs": [],
   "source": [
    "class Cube(Square):\n",
    "    \n",
    "    # no need to implement __init__ method\n",
    "    \n",
    "    def surface_area(self):\n",
    "        \n",
    "        face_area = self.area()\n",
    "        \n",
    "        return 6 * face_area\n",
    "    \n",
    "    def volume(self):\n",
    "        \n",
    "        face_area = super().area()\n",
    "        \n",
    "        return face_area * self.length\n",
    "    \n",
    "    def who_am_i(self):\n",
    "        \n",
    "        return 'Cube'"
   ]
  },
  {
   "cell_type": "code",
   "execution_count": 124,
   "id": "5e3099c0",
   "metadata": {},
   "outputs": [
    {
     "name": "stdout",
     "output_type": "stream",
     "text": [
      "Entrei no init da classe Square\n",
      "Entrei no init da classe Rectangle\n"
     ]
    },
    {
     "data": {
      "text/plain": [
       "54"
      ]
     },
     "metadata": {},
     "output_type": "display_data"
    },
    {
     "data": {
      "text/plain": [
       "27"
      ]
     },
     "metadata": {},
     "output_type": "display_data"
    }
   ],
   "source": [
    "cube = Cube(3)\n",
    "display(cube.surface_area())\n",
    "display(cube.volume())"
   ]
  },
  {
   "cell_type": "markdown",
   "id": "e1c7fc93",
   "metadata": {},
   "source": [
    "Como funciona a busca por determinado método ou atributo em um objeto?\n",
    "\n",
    "- Primeiro: verifico se o objeto em questão tem aquele atributo/método\n",
    "- Segundo: Caso não encontre a busca é feita na classe pai.\n",
    "- ... A busca nas classes pai continua até que o atributo/método seja encontrado, caso isso não aconteça, há um AttributeError."
   ]
  },
  {
   "cell_type": "markdown",
   "id": "d6b34d6d",
   "metadata": {},
   "source": [
    "Respondendo a pergunta sobre o super()\n",
    "\n",
    "Quando chamado de dentro de uma classe, automaticamente o super é chamado com a classe e com a instancia. Ou seja quando estou na classe Square e chamo super, por tras dos panos na verdade eu to chamando super(Square, self). Daí pego a classe pai de square e acesso ela, no caso a classe Rectangle.\n",
    "Fora de uma classe, eu posso utilizar o super da forma que eu quiser, daí passando corretamente a classe e instancia."
   ]
  },
  {
   "cell_type": "code",
   "execution_count": 69,
   "id": "695fa510",
   "metadata": {},
   "outputs": [
    {
     "data": {
      "text/plain": [
       "'Cube'"
      ]
     },
     "execution_count": 69,
     "metadata": {},
     "output_type": "execute_result"
    }
   ],
   "source": [
    "cube.who_am_i()"
   ]
  },
  {
   "cell_type": "code",
   "execution_count": 78,
   "id": "1b606c69",
   "metadata": {},
   "outputs": [
    {
     "data": {
      "text/plain": [
       "3"
      ]
     },
     "execution_count": 78,
     "metadata": {},
     "output_type": "execute_result"
    }
   ],
   "source": [
    "cube.length"
   ]
  },
  {
   "cell_type": "code",
   "execution_count": 75,
   "id": "9889b889",
   "metadata": {},
   "outputs": [
    {
     "data": {
      "text/plain": [
       "'Square'"
      ]
     },
     "execution_count": 75,
     "metadata": {},
     "output_type": "execute_result"
    }
   ],
   "source": [
    "super(Cube, cube).who_am_i()"
   ]
  },
  {
   "cell_type": "code",
   "execution_count": 77,
   "id": "7698f8cb",
   "metadata": {},
   "outputs": [
    {
     "data": {
      "text/plain": [
       "'Rectangle'"
      ]
     },
     "execution_count": 77,
     "metadata": {},
     "output_type": "execute_result"
    }
   ],
   "source": [
    "super(Square, square).who_am_i()"
   ]
  },
  {
   "cell_type": "markdown",
   "id": "63325605",
   "metadata": {},
   "source": [
    "# Trabalhando com heranças multiplas"
   ]
  },
  {
   "cell_type": "markdown",
   "id": "a49de825",
   "metadata": {},
   "source": [
    "Show, vamos lá. \n",
    "A ideia agora é entender como python avalia heranças multiplas, pra isso vamos criar mais algumas classes geometricas."
   ]
  },
  {
   "cell_type": "code",
   "execution_count": 79,
   "id": "24065564",
   "metadata": {},
   "outputs": [],
   "source": [
    "class Triangle():\n",
    "    \n",
    "    def __init__(self, base, height):\n",
    "        \n",
    "        self.base = base\n",
    "        self.height = height\n",
    "        \n",
    "    def area(self):\n",
    "        \n",
    "        return 0.5 * self.base * self.height\n",
    "    \n",
    "    def who_am_i(self):\n",
    "        \n",
    "        return 'Triangle'\n",
    "    \n",
    "\n",
    "class RightPyramid(Triangle, Square):\n",
    "    \n",
    "    def __init__(self, base, slant_height):\n",
    "        \n",
    "        self.base = base\n",
    "        self.slant_height = slant_height\n",
    "        \n",
    "    def who_am_i(self):\n",
    "        \n",
    "        return 'Pyramid'      "
   ]
  },
  {
   "cell_type": "code",
   "execution_count": 80,
   "id": "7b1839a8",
   "metadata": {},
   "outputs": [],
   "source": [
    "right_pyramid = RightPyramid(2, 4)"
   ]
  },
  {
   "cell_type": "code",
   "execution_count": 81,
   "id": "45fd03c4",
   "metadata": {},
   "outputs": [
    {
     "data": {
      "text/plain": [
       "'Triangle'"
      ]
     },
     "execution_count": 81,
     "metadata": {},
     "output_type": "execute_result"
    }
   ],
   "source": [
    "super(RightPyramid, right_pyramid).who_am_i()"
   ]
  },
  {
   "cell_type": "markdown",
   "id": "e6536d01",
   "metadata": {},
   "source": [
    "Repara que quando acesso o super, eu acesso diretamente o Triangle mas a classe também herda de square, então como que acontece. Acontece que nesse caso há uma sequencia na busca pelos métodos ditado pelo `mro`. "
   ]
  },
  {
   "cell_type": "code",
   "execution_count": 85,
   "id": "db450a96",
   "metadata": {},
   "outputs": [
    {
     "data": {
      "text/plain": [
       "(__main__.RightPyramid,\n",
       " __main__.Triangle,\n",
       " __main__.Square,\n",
       " __main__.Rectangle,\n",
       " object)"
      ]
     },
     "execution_count": 85,
     "metadata": {},
     "output_type": "execute_result"
    }
   ],
   "source": [
    "RightPyramid.__mro__"
   ]
  },
  {
   "cell_type": "markdown",
   "id": "d69b6591",
   "metadata": {},
   "source": [
    "Reoarar que o método `__mro__` é aplicado diretamente a classe e não a uma instancia dela. O que isso quer dizer? Quer dizer que provavelmente este cara vem do `type` que são as classes das quais as classes herdam coisas hehe."
   ]
  },
  {
   "cell_type": "markdown",
   "id": "a459cf0c",
   "metadata": {},
   "source": [
    "É uma sequencia de classes pelas quais os métodos serão buscados. Nota-se que pela forma que a classe em questão foi definida o primeiro cara na lista é a própria classe (`RightPyramid`) seguida pela `Triangle`. \n",
    "E assim que o método é encontrado ele é retornado daí nem chega a haver procura na classe `Square`.\n",
    "Neste caso eu preciso explicitamente utilizar o super() com seus parametros para que pegue o valor de outra classe pai."
   ]
  },
  {
   "cell_type": "code",
   "execution_count": 89,
   "id": "cdf6f3d9",
   "metadata": {},
   "outputs": [
    {
     "data": {
      "text/plain": [
       "(__main__.Triangle, __main__.Square)"
      ]
     },
     "execution_count": 89,
     "metadata": {},
     "output_type": "execute_result"
    }
   ],
   "source": [
    "right_pyramid.__class__.__bases__"
   ]
  },
  {
   "cell_type": "markdown",
   "id": "5937afb4",
   "metadata": {},
   "source": [
    "Da mesma forma o atributo `__bases__` é um atributo da classe. Aqui vi duas maneiras de acessar esse cara. A primeira através de uma instancia consigo acessar a classe com o atributo `__class__` e após com o atributo `__bases__`. A segunda é pegar a classe diretamente e já aplicar o `__bases__`"
   ]
  },
  {
   "cell_type": "markdown",
   "id": "01b4dfbf",
   "metadata": {},
   "source": [
    "`MRO:` Method Resolution Order"
   ]
  },
  {
   "cell_type": "markdown",
   "id": "5770f2ec",
   "metadata": {},
   "source": [
    "Entendenddo melhor como a questão hierarquica funciona com o seguinte exemplo:"
   ]
  },
  {
   "cell_type": "code",
   "execution_count": 134,
   "id": "52d675a8",
   "metadata": {},
   "outputs": [],
   "source": [
    "class A:\n",
    "    def __init__(self):\n",
    "        print('A')\n",
    "        super().__init__()\n",
    "        \n",
    "    def who_am_i(self):\n",
    "        print('A')\n",
    "        \n",
    "class B(A):\n",
    "    def __init__(self):\n",
    "        print('B')\n",
    "        super().__init__()\n",
    "        \n",
    "    def who_am_i(self):\n",
    "        print('B')\n",
    "        super().who_am_i()\n",
    "\n",
    "class X:\n",
    "    def __init__(self):\n",
    "        print('X')\n",
    "        super().__init__()\n",
    "        \n",
    "    def who_am_i(self):\n",
    "        print('X')\n",
    "        \n",
    "class Forward(B, X):\n",
    "    def __init__(self):\n",
    "        print('Forward')\n",
    "        super().__init__()\n",
    "        \n",
    "    def who_am_i(self):\n",
    "        print('Forward')\n",
    "        super().who_am_i()\n",
    "        \n",
    "class Backward(X, B):\n",
    "    def __init__(self):\n",
    "        print('Backward')\n",
    "        super().__init__()\n",
    "        \n",
    "    def who_am_i(self):\n",
    "        print('Backward')\n",
    "        super().who_am_i()"
   ]
  },
  {
   "cell_type": "code",
   "execution_count": 135,
   "id": "8dd2de03",
   "metadata": {},
   "outputs": [
    {
     "name": "stdout",
     "output_type": "stream",
     "text": [
      "Forward\n",
      "B\n",
      "A\n",
      "X\n"
     ]
    }
   ],
   "source": [
    "forward = Forward()"
   ]
  },
  {
   "cell_type": "code",
   "execution_count": 136,
   "id": "b35ce7ed",
   "metadata": {},
   "outputs": [
    {
     "data": {
      "text/plain": [
       "(__main__.Forward, __main__.B, __main__.A, __main__.X, object)"
      ]
     },
     "execution_count": 136,
     "metadata": {},
     "output_type": "execute_result"
    }
   ],
   "source": [
    "Forward.__mro__"
   ]
  },
  {
   "cell_type": "code",
   "execution_count": 95,
   "id": "3ae8d44a",
   "metadata": {},
   "outputs": [
    {
     "name": "stdout",
     "output_type": "stream",
     "text": [
      "Backward\n",
      "X\n",
      "B\n",
      "A\n"
     ]
    }
   ],
   "source": [
    "backward = Backward()"
   ]
  },
  {
   "cell_type": "markdown",
   "id": "3f12868d",
   "metadata": {},
   "source": [
    "Muito bom, deu pra sacar legal. \n",
    "Seguinte, quando tenho herança, o super() acessa os métodos das classes pai, porém é importante notar que os métodos de todos os pais são chamados. Então, se houver herança multipla, ele passa por todas as opções. Tem que se ligar nisso na hora que for fazer o desenvolvimento. Pergunta: Esta busca em todas as classes ocorre para todos os métodos ou somente para o `__init__`?"
   ]
  },
  {
   "cell_type": "code",
   "execution_count": 96,
   "id": "fe4df38f",
   "metadata": {},
   "outputs": [
    {
     "name": "stdout",
     "output_type": "stream",
     "text": [
      "Forward\n",
      "B\n",
      "A\n"
     ]
    }
   ],
   "source": [
    "forward.who_am_i()"
   ]
  },
  {
   "cell_type": "code",
   "execution_count": 97,
   "id": "4ec6e187",
   "metadata": {},
   "outputs": [
    {
     "name": "stdout",
     "output_type": "stream",
     "text": [
      "Backward\n",
      "X\n"
     ]
    }
   ],
   "source": [
    "backward.who_am_i()"
   ]
  },
  {
   "cell_type": "markdown",
   "id": "8a8132a6",
   "metadata": {},
   "source": [
    "No caso de um método normal implementado a busca não ocorre da mesma forma. Logo parece que só o `__init__` mesmo que tem esse comportamento."
   ]
  },
  {
   "cell_type": "markdown",
   "id": "f562be36",
   "metadata": {},
   "source": [
    "Vamos fazer agora uma implementação mais detalhada de modo que consigo chamar os métodos `__init__` de nossas classes de figuras geometricas a partir da piramide."
   ]
  },
  {
   "cell_type": "code",
   "execution_count": 108,
   "id": "3dd0d629",
   "metadata": {},
   "outputs": [],
   "source": [
    "class RightPyramid(Square, Triangle):\n",
    "    \n",
    "    def __init__(self, base, slant_height, **kwargs):\n",
    "        self.base = base\n",
    "        self.slant_height = slant_height\n",
    "        kwargs['height'] = slant_height\n",
    "        kwargs['length'] = base\n",
    "        super().__init__(base=base, **kwargs)\n",
    "        \n",
    "class Triangle():\n",
    "    \n",
    "    def __init__(self, base, height, **kwargs):\n",
    "        \n",
    "        self.base = base\n",
    "        self.height = height\n",
    "        \n",
    "    def area(self):\n",
    "        \n",
    "        return 0.5 * self.base * self.height\n",
    "    \n",
    "    def who_am_i(self):\n",
    "        \n",
    "        return 'Triangle'\n",
    "    \n",
    "class Rectangle():\n",
    "    \n",
    "    def __init__(self, length, width, **kwargs):\n",
    "        print('Entrei no init da classe Rectangle')\n",
    "        self.length = length\n",
    "        self.width = width\n",
    "        \n",
    "    def area(self):\n",
    "        \n",
    "        return self.length * self.width\n",
    "    \n",
    "    def perimeter(self):\n",
    "        \n",
    "        return 2 * self.length + 2 * self.width\n",
    "    \n",
    "    def who_am_i(self):\n",
    "        \n",
    "        return 'Rectangle'\n",
    "    \n",
    "class Square(Rectangle):\n",
    "    \n",
    "    def __init__(self, length, **kwargs):\n",
    "        print('Entrei no init da classe Square')\n",
    "        super().__init__(length, length, **kwargs)\n",
    "    \n",
    "    def who_am_i(self):\n",
    "        \n",
    "        return 'Square'"
   ]
  },
  {
   "cell_type": "markdown",
   "id": "9dfa7bcd",
   "metadata": {},
   "source": [
    "__Sequencia:__\n",
    "\n",
    "1) __init__ do RightPyramid é chamado nele tenho as definições de base e slant_height.\n",
    "\n",
    "2) Seguindo a sequencia, o __init__ do Square é chamado. Neste caso acabo tendo um erro pois o método precisa de um parametro chamado length.\n",
    "\n",
    "3) Em seguida, o __init__ do Triangle é chamado, este método precisa do length e do height para fazer os cálculos."
   ]
  },
  {
   "cell_type": "code",
   "execution_count": 109,
   "id": "1df0c391",
   "metadata": {},
   "outputs": [
    {
     "name": "stdout",
     "output_type": "stream",
     "text": [
      "Entrei no init da classe Square\n",
      "Entrei no init da classe Rectangle\n"
     ]
    }
   ],
   "source": [
    "right_pyramid = RightPyramid(2, 4)"
   ]
  },
  {
   "cell_type": "markdown",
   "id": "bb52c67d",
   "metadata": {},
   "source": [
    "Aqui chegamos numa parte legal, a apresentação de um conceito de mixin. Já tinha visto isso em alguns frameworks e desenvolvimentos mas não tinha sacado ainda qual a parada. As mixin's são classes que não tem método construtor mas são capazes de adicionar comportamentos quando herdadas. A ausencia do método construtor faz com que não aja preocupação em ter que definir a chamada através do super().__init__()"
   ]
  },
  {
   "cell_type": "code",
   "execution_count": 116,
   "id": "1a2dd81e",
   "metadata": {},
   "outputs": [],
   "source": [
    "class SurfaceAreaMixin:\n",
    "    def surface_area(self):\n",
    "        \n",
    "        surface_area = 0\n",
    "        for surface in self.surfaces:\n",
    "            surface_area += surface.area(self)\n",
    "            \n",
    "        return surface_area\n",
    "            \n",
    "class RightPyramid(Square, Triangle, SurfaceAreaMixin):\n",
    "    \n",
    "    def __init__(self, base, slant_height, **kwargs):\n",
    "        self.base = base\n",
    "        self.slant_height = slant_height\n",
    "        self.length = base\n",
    "        self.height = slant_height\n",
    "        self.width = base\n",
    "        \n",
    "        self.surfaces = [\n",
    "            Square,\n",
    "            Triangle,\n",
    "            Triangle,\n",
    "            Triangle,\n",
    "            Triangle\n",
    "        ]"
   ]
  },
  {
   "cell_type": "code",
   "execution_count": 117,
   "id": "f4e0ff8c",
   "metadata": {},
   "outputs": [],
   "source": [
    "right_pyramid = RightPyramid(2, 4)"
   ]
  },
  {
   "cell_type": "code",
   "execution_count": 118,
   "id": "b426bc62",
   "metadata": {},
   "outputs": [
    {
     "data": {
      "text/plain": [
       "20.0"
      ]
     },
     "execution_count": 118,
     "metadata": {},
     "output_type": "execute_result"
    }
   ],
   "source": [
    "right_pyramid.surface_area()"
   ]
  },
  {
   "cell_type": "markdown",
   "id": "151ecc17",
   "metadata": {},
   "source": [
    "Foi um desenvolvimento muito interessantes, pois a classe SurfaceAreaMixin serve apenas para incluir nas subclasses a método surface_area.\n",
    "Daí como tenho uma lista das figuras geometricas base que compoem a piramide bastou fazer um loop através de uma lista somando as áreas. E pronto tenho o total da área superficial da piramide com base quadrada."
   ]
  }
 ],
 "metadata": {
  "kernelspec": {
   "display_name": "Python 3",
   "language": "python",
   "name": "python3"
  },
  "language_info": {
   "codemirror_mode": {
    "name": "ipython",
    "version": 3
   },
   "file_extension": ".py",
   "mimetype": "text/x-python",
   "name": "python",
   "nbconvert_exporter": "python",
   "pygments_lexer": "ipython3",
   "version": "3.8.8"
  }
 },
 "nbformat": 4,
 "nbformat_minor": 5
}
