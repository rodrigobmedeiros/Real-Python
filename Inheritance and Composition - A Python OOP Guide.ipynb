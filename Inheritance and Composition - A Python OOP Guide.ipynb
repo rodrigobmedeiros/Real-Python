{
 "cells": [
  {
   "cell_type": "markdown",
   "id": "b267238d",
   "metadata": {},
   "source": [
    "# Inheritance x Composition"
   ]
  },
  {
   "cell_type": "markdown",
   "id": "52cf0d48",
   "metadata": {},
   "source": [
    "## Inheritance: \n",
    "\n",
    "What common attributes and behaviors exist between real-world objects? The idea here is implement new classes based on a existing one reusing code. "
   ]
  },
  {
   "cell_type": "markdown",
   "id": "ced6c276",
   "metadata": {},
   "source": [
    "## Composition:\n",
    "\n",
    "How are objects in the real world composed (made up) of one another? In this case I have custom classes being used for other classes as attributes. For example: I have a `Person` class with attributes like, name, surname, address and others. Suppose that I want encapsulate address info into a new class. So in this case, I don't have inheritance, I have composition."
   ]
  },
  {
   "cell_type": "markdown",
   "id": "6dc6a2d1",
   "metadata": {},
   "source": [
    "## Details: Inheritance\n",
    "\n",
    "Inheritance is a kind of ` __is a__ `  relationship. Ex: Cat is an animal, Fish is an animal, Employee is a person and so on.\n",
    "It means that, for example Cat is an animal but defined in a more specific way. Cat has all attributes e behaviours of a animal but some specifics."
   ]
  },
  {
   "cell_type": "markdown",
   "id": "e86ee390",
   "metadata": {},
   "source": [
    "![teste](./source/inheritance_and_composition_a_python_oop_guide/employee_inheritance.png)"
   ]
  },
  {
   "cell_type": "markdown",
   "id": "2c614a69",
   "metadata": {},
   "source": [
    "In this example I have a superclass called employee and two subclasses called waitress and cashier. Here I can see some aspects of inheritance. When I do that, the subclass inherits all attributes and methods from superclass and implement new ones or modify the implementation of an already existing ones. For example, waitress class implements two new attributes (shifts and tips_total) and one new method (take_break). Beside that the class changes the implementation of work method. It means that in this class I have the work method but implemented in a different way."
   ]
  },
  {
   "cell_type": "markdown",
   "id": "7fb589c4",
   "metadata": {},
   "source": [
    "__1.__ Does a waitress object have the ability to clock in? __YES!__\\\n",
    "__2.__ Does an employee object have a shifts attribute? __NO!__\\\n",
    "__3.__ Does a cashier object work the same way as an employee object? __NO!__"
   ]
  },
  {
   "cell_type": "markdown",
   "id": "baf8bce1",
   "metadata": {},
   "source": [
    "## Details: Composition\n",
    "\n",
    "Composition is a kind of __has a__ relationship. It's possible to think like a __par of__ relationship."
   ]
  },
  {
   "attachments": {},
   "cell_type": "markdown",
   "id": "232a7188",
   "metadata": {},
   "source": [
    "![image.png](./source/inheritance_and_composition_a_python_oop_guide/car_engine_composition.png)"
   ]
  },
  {
   "cell_type": "markdown",
   "id": "e3b4df21",
   "metadata": {},
   "source": [
    "In this case, I have a car, represented by the Car class. A car have attributes and methods. Between the attributes I have brand (string), model (string), year (integer) and engine(???). Yeah, the question is which type the attribute engine is? I don't have a built-in type so I can create one. A type called Engine with its attributes and methods, and now, I pass it to the Car class.\\\n",
    "Inside the Car class I can access all attributes and methods from Engine class, in this case the relationship is of the king __has a__, the car has an engine. So it's a composition."
   ]
  },
  {
   "cell_type": "markdown",
   "id": "65daafef",
   "metadata": {},
   "source": [
    "__1.__ What is the type of the engine attribute?\\\n",
    "__2.__ Does the __accelerate()__ method have access to the efficiency attribute?\\\n",
    "__3.__ Can the __ignite()__ method in the engine class access the brand attribute?"
   ]
  },
  {
   "cell_type": "markdown",
   "id": "84543e3b",
   "metadata": {},
   "source": [
    "### Answers:\n",
    "__1.__ Engine type\\\n",
    "__2.__ YES!\\\n",
    "__3.__ NO!"
   ]
  },
  {
   "cell_type": "markdown",
   "id": "c6e51d0b",
   "metadata": {},
   "source": [
    "The engine class is blinded where it's being used =D"
   ]
  },
  {
   "cell_type": "markdown",
   "id": "14f59921",
   "metadata": {},
   "source": [
    "### Inheritance in python"
   ]
  },
  {
   "cell_type": "code",
   "execution_count": 72,
   "id": "0b3247c6",
   "metadata": {},
   "outputs": [],
   "source": [
    "class MyClass:\n",
    "    pass"
   ]
  },
  {
   "cell_type": "code",
   "execution_count": 73,
   "id": "b614312f",
   "metadata": {},
   "outputs": [],
   "source": [
    "c = MyClass()"
   ]
  },
  {
   "cell_type": "markdown",
   "id": "836f99e8",
   "metadata": {},
   "source": [
    "There's a built-in function called dir() that can be used to list all members of a class, which basically means attributes and methods."
   ]
  },
  {
   "cell_type": "code",
   "execution_count": 74,
   "id": "7651d32d",
   "metadata": {},
   "outputs": [
    {
     "data": {
      "text/plain": [
       "['__class__',\n",
       " '__delattr__',\n",
       " '__dict__',\n",
       " '__dir__',\n",
       " '__doc__',\n",
       " '__eq__',\n",
       " '__format__',\n",
       " '__ge__',\n",
       " '__getattribute__',\n",
       " '__gt__',\n",
       " '__hash__',\n",
       " '__init__',\n",
       " '__init_subclass__',\n",
       " '__le__',\n",
       " '__lt__',\n",
       " '__module__',\n",
       " '__ne__',\n",
       " '__new__',\n",
       " '__reduce__',\n",
       " '__reduce_ex__',\n",
       " '__repr__',\n",
       " '__setattr__',\n",
       " '__sizeof__',\n",
       " '__str__',\n",
       " '__subclasshook__',\n",
       " '__weakref__']"
      ]
     },
     "execution_count": 74,
     "metadata": {},
     "output_type": "execute_result"
    }
   ],
   "source": [
    "dir(c)"
   ]
  },
  {
   "cell_type": "code",
   "execution_count": 75,
   "id": "6a2156de",
   "metadata": {},
   "outputs": [],
   "source": [
    "o = object()"
   ]
  },
  {
   "cell_type": "code",
   "execution_count": 76,
   "id": "4d985387",
   "metadata": {},
   "outputs": [
    {
     "data": {
      "text/plain": [
       "['__class__',\n",
       " '__delattr__',\n",
       " '__dir__',\n",
       " '__doc__',\n",
       " '__eq__',\n",
       " '__format__',\n",
       " '__ge__',\n",
       " '__getattribute__',\n",
       " '__gt__',\n",
       " '__hash__',\n",
       " '__init__',\n",
       " '__init_subclass__',\n",
       " '__le__',\n",
       " '__lt__',\n",
       " '__ne__',\n",
       " '__new__',\n",
       " '__reduce__',\n",
       " '__reduce_ex__',\n",
       " '__repr__',\n",
       " '__setattr__',\n",
       " '__sizeof__',\n",
       " '__str__',\n",
       " '__subclasshook__']"
      ]
     },
     "execution_count": 76,
     "metadata": {},
     "output_type": "execute_result"
    }
   ],
   "source": [
    "dir(o)"
   ]
  },
  {
   "cell_type": "code",
   "execution_count": 78,
   "id": "97a75ee2",
   "metadata": {},
   "outputs": [
    {
     "data": {
      "text/plain": [
       "{'__dict__', '__module__', '__weakref__'}"
      ]
     },
     "execution_count": 78,
     "metadata": {},
     "output_type": "execute_result"
    }
   ],
   "source": [
    "set(dir(c)) - set(dir(o))"
   ]
  },
  {
   "cell_type": "code",
   "execution_count": 81,
   "id": "68c6d5b1",
   "metadata": {},
   "outputs": [],
   "source": [
    "t = type(type)"
   ]
  },
  {
   "cell_type": "code",
   "execution_count": 82,
   "id": "d4ef1e1b",
   "metadata": {},
   "outputs": [
    {
     "data": {
      "text/plain": [
       "['__abstractmethods__',\n",
       " '__base__',\n",
       " '__bases__',\n",
       " '__basicsize__',\n",
       " '__call__',\n",
       " '__class__',\n",
       " '__delattr__',\n",
       " '__dict__',\n",
       " '__dictoffset__',\n",
       " '__dir__',\n",
       " '__doc__',\n",
       " '__eq__',\n",
       " '__flags__',\n",
       " '__format__',\n",
       " '__ge__',\n",
       " '__getattribute__',\n",
       " '__gt__',\n",
       " '__hash__',\n",
       " '__init__',\n",
       " '__init_subclass__',\n",
       " '__instancecheck__',\n",
       " '__itemsize__',\n",
       " '__le__',\n",
       " '__lt__',\n",
       " '__module__',\n",
       " '__mro__',\n",
       " '__name__',\n",
       " '__ne__',\n",
       " '__new__',\n",
       " '__prepare__',\n",
       " '__qualname__',\n",
       " '__reduce__',\n",
       " '__reduce_ex__',\n",
       " '__repr__',\n",
       " '__setattr__',\n",
       " '__sizeof__',\n",
       " '__str__',\n",
       " '__subclasscheck__',\n",
       " '__subclasses__',\n",
       " '__subclasshook__',\n",
       " '__text_signature__',\n",
       " '__weakrefoffset__',\n",
       " 'mro']"
      ]
     },
     "execution_count": 82,
     "metadata": {},
     "output_type": "execute_result"
    }
   ],
   "source": [
    "dir(t)"
   ]
  },
  {
   "cell_type": "markdown",
   "id": "11fdf3e4",
   "metadata": {},
   "source": [
    "Here I can see that, I created an empty class but it already has a lot of methods (dunder methods, magic methods)... From where these guys come from? The answer is simple, all classes in python inherit from `object` built-in class that is responsible to implement all these methods."
   ]
  },
  {
   "cell_type": "markdown",
   "id": "c4af3e8c",
   "metadata": {},
   "source": [
    "__hint!__\n",
    "\n",
    "In the course we talk about Exceptions, all exceptions are derived from an base class called BaseException but in the documentation is mentioned to don't inherit directly from that instead of it, inherit from `Exception` class."
   ]
  },
  {
   "cell_type": "code",
   "execution_count": 83,
   "id": "0e9d79af",
   "metadata": {},
   "outputs": [],
   "source": [
    "class MyError(Exception):\n",
    "    pass"
   ]
  },
  {
   "cell_type": "code",
   "execution_count": 85,
   "id": "a5ae0729",
   "metadata": {},
   "outputs": [
    {
     "ename": "MyError",
     "evalue": "It's an error",
     "output_type": "error",
     "traceback": [
      "\u001b[1;31m---------------------------------------------------------------------------\u001b[0m",
      "\u001b[1;31mMyError\u001b[0m                                   Traceback (most recent call last)",
      "\u001b[1;32m<ipython-input-85-4b9e6e335d03>\u001b[0m in \u001b[0;36m<module>\u001b[1;34m\u001b[0m\n\u001b[1;32m----> 1\u001b[1;33m \u001b[1;32mraise\u001b[0m \u001b[0mMyError\u001b[0m\u001b[1;33m(\u001b[0m\u001b[1;34m\"It's an error\"\u001b[0m\u001b[1;33m)\u001b[0m\u001b[1;33m\u001b[0m\u001b[1;33m\u001b[0m\u001b[0m\n\u001b[0m",
      "\u001b[1;31mMyError\u001b[0m: It's an error"
     ]
    }
   ],
   "source": [
    "raise MyError(\"It's an error\")"
   ]
  },
  {
   "cell_type": "markdown",
   "id": "3f0b314e",
   "metadata": {},
   "source": [
    "Here I can see that with inheritance, I can define a custom exception class easily. Man, it's beautiful!"
   ]
  },
  {
   "cell_type": "code",
   "execution_count": null,
   "id": "fa43420e",
   "metadata": {},
   "outputs": [],
   "source": []
  }
 ],
 "metadata": {
  "kernelspec": {
   "display_name": "Python 3",
   "language": "python",
   "name": "python3"
  },
  "language_info": {
   "codemirror_mode": {
    "name": "ipython",
    "version": 3
   },
   "file_extension": ".py",
   "mimetype": "text/x-python",
   "name": "python",
   "nbconvert_exporter": "python",
   "pygments_lexer": "ipython3",
   "version": "3.8.8"
  }
 },
 "nbformat": 4,
 "nbformat_minor": 5
}
