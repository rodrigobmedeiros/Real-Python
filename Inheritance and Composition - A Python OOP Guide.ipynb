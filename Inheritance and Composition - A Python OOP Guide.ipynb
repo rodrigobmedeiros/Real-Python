{
 "cells": [
  {
   "cell_type": "markdown",
   "id": "380bac9c",
   "metadata": {},
   "source": [
    "# Inheritance x Composition"
   ]
  },
  {
   "cell_type": "markdown",
   "id": "1143842b",
   "metadata": {},
   "source": [
    "## Inheritance: \n",
    "\n",
    "What common attributes and behaviors exist between real-world objects? The idea here is implement new classes based on a existing one reusing code. "
   ]
  },
  {
   "cell_type": "markdown",
   "id": "b339b932",
   "metadata": {},
   "source": [
    "## Composition:\n",
    "\n",
    "How are objects in the real world composed (made up) of one another? In this case I have custom classes being used for other classes as attributes. For example: I have a `Person` class with attributes like, name, surname, address and others. Suppose that I want encapsulate address info into a new class. So in this case, I don't have inheritance, I have composition."
   ]
  },
  {
   "cell_type": "markdown",
   "id": "5abb7e1d",
   "metadata": {},
   "source": [
    "## Details: Inheritance\n",
    "\n",
    "Inheritance is a kind of ` __is a__ `  relationship. Ex: Cat is an animal, Fish is an animal, Employee is a person and so on.\n",
    "It means that, for example Cat is an animal but defined in a more specific way. Cat has all attributes e behaviours of a animal but some specifics."
   ]
  },
  {
   "cell_type": "markdown",
   "id": "de529f44",
   "metadata": {},
   "source": [
    "![teste](./source/inheritance_and_composition_a_python_oop_guide/employee_inheritance.png)"
   ]
  },
  {
   "cell_type": "markdown",
   "id": "4b2659aa",
   "metadata": {},
   "source": [
    "In this example I have a superclass called employee and two subclasses called waitress and cashier. Here I can see some aspects of inheritance. When I do that, the subclass inherits all attributes and methods from superclass and implement new ones or modify the implementation of an already existing ones. For example, waitress class implements two new attributes (shifts and tips_total) and one new method (take_break). Beside that the class changes the implementation of work method. It means that in this class I have the work method but implemented in a different way."
   ]
  },
  {
   "cell_type": "markdown",
   "id": "a58e10bb",
   "metadata": {},
   "source": [
    "__1.__ Does a waitress object have the ability to clock in? __YES!__\\\n",
    "__2.__ Does an employee object have a shifts attribute? __NO!__\\\n",
    "__3.__ Does a cashier object work the same way as an employee object? __NO!__"
   ]
  },
  {
   "cell_type": "markdown",
   "id": "695bdb54",
   "metadata": {},
   "source": [
    "## Details: Composition\n",
    "\n",
    "Composition is a kind of __has a__ relationship. It's possible to think like a __par of__ relationship."
   ]
  },
  {
   "attachments": {},
   "cell_type": "markdown",
   "id": "c63f3db4",
   "metadata": {},
   "source": [
    "![image.png](./source/inheritance_and_composition_a_python_oop_guide/car_engine_composition.png)"
   ]
  },
  {
   "cell_type": "markdown",
   "id": "c181fc56",
   "metadata": {},
   "source": [
    "In this case, I have a car, represented by the Car class. A car have attributes and methods. Between the attributes I have brand (string), model (string), year (integer) and engine(???). Yeah, the question is which type the attribute engine is? I don't have a built-in type so I can create one. A type called Engine with its attributes and methods, and now, I pass it to the Car class.\\\n",
    "Inside the Car class I can access all attributes and methods from Engine class, in this case the relationship is of the king __has a__, the car has an engine. So it's a composition."
   ]
  },
  {
   "cell_type": "markdown",
   "id": "a6510c26",
   "metadata": {},
   "source": [
    "__1.__ What is the type of the engine attribute?\\\n",
    "__2.__ Does the __accelerate()__ method have access to the efficiency attribute?\\\n",
    "__3.__ Can the __ignite()__ method in the engine class access the brand attribute?"
   ]
  },
  {
   "cell_type": "markdown",
   "id": "81836668",
   "metadata": {},
   "source": [
    "### Answers:\n",
    "__1.__ Engine type\\\n",
    "__2.__ YES!\\\n",
    "__3.__ NO!"
   ]
  },
  {
   "cell_type": "markdown",
   "id": "b87149e2",
   "metadata": {},
   "source": [
    "The engine class is blinded where it's being used =D"
   ]
  },
  {
   "cell_type": "markdown",
   "id": "af360c7a",
   "metadata": {},
   "source": [
    "__Composite:__ Class that has another one.\\\n",
    "__Component:__ Class that is used inside another class."
   ]
  },
  {
   "cell_type": "markdown",
   "id": "50d9361c",
   "metadata": {},
   "source": [
    "### Inheritance in python"
   ]
  },
  {
   "cell_type": "code",
   "execution_count": 72,
   "id": "f5d70985",
   "metadata": {},
   "outputs": [],
   "source": [
    "class MyClass:\n",
    "    pass"
   ]
  },
  {
   "cell_type": "code",
   "execution_count": 73,
   "id": "4daaa054",
   "metadata": {},
   "outputs": [],
   "source": [
    "c = MyClass()"
   ]
  },
  {
   "cell_type": "markdown",
   "id": "85b7cb5b",
   "metadata": {},
   "source": [
    "There's a built-in function called dir() that can be used to list all members of a class, which basically means attributes and methods."
   ]
  },
  {
   "cell_type": "code",
   "execution_count": 74,
   "id": "43950b44",
   "metadata": {},
   "outputs": [
    {
     "data": {
      "text/plain": [
       "['__class__',\n",
       " '__delattr__',\n",
       " '__dict__',\n",
       " '__dir__',\n",
       " '__doc__',\n",
       " '__eq__',\n",
       " '__format__',\n",
       " '__ge__',\n",
       " '__getattribute__',\n",
       " '__gt__',\n",
       " '__hash__',\n",
       " '__init__',\n",
       " '__init_subclass__',\n",
       " '__le__',\n",
       " '__lt__',\n",
       " '__module__',\n",
       " '__ne__',\n",
       " '__new__',\n",
       " '__reduce__',\n",
       " '__reduce_ex__',\n",
       " '__repr__',\n",
       " '__setattr__',\n",
       " '__sizeof__',\n",
       " '__str__',\n",
       " '__subclasshook__',\n",
       " '__weakref__']"
      ]
     },
     "execution_count": 74,
     "metadata": {},
     "output_type": "execute_result"
    }
   ],
   "source": [
    "dir(c)"
   ]
  },
  {
   "cell_type": "code",
   "execution_count": 75,
   "id": "f6a1b645",
   "metadata": {},
   "outputs": [],
   "source": [
    "o = object()"
   ]
  },
  {
   "cell_type": "code",
   "execution_count": 76,
   "id": "ebf20062",
   "metadata": {},
   "outputs": [
    {
     "data": {
      "text/plain": [
       "['__class__',\n",
       " '__delattr__',\n",
       " '__dir__',\n",
       " '__doc__',\n",
       " '__eq__',\n",
       " '__format__',\n",
       " '__ge__',\n",
       " '__getattribute__',\n",
       " '__gt__',\n",
       " '__hash__',\n",
       " '__init__',\n",
       " '__init_subclass__',\n",
       " '__le__',\n",
       " '__lt__',\n",
       " '__ne__',\n",
       " '__new__',\n",
       " '__reduce__',\n",
       " '__reduce_ex__',\n",
       " '__repr__',\n",
       " '__setattr__',\n",
       " '__sizeof__',\n",
       " '__str__',\n",
       " '__subclasshook__']"
      ]
     },
     "execution_count": 76,
     "metadata": {},
     "output_type": "execute_result"
    }
   ],
   "source": [
    "dir(o)"
   ]
  },
  {
   "cell_type": "code",
   "execution_count": 78,
   "id": "28c386ae",
   "metadata": {},
   "outputs": [
    {
     "data": {
      "text/plain": [
       "{'__dict__', '__module__', '__weakref__'}"
      ]
     },
     "execution_count": 78,
     "metadata": {},
     "output_type": "execute_result"
    }
   ],
   "source": [
    "set(dir(c)) - set(dir(o))"
   ]
  },
  {
   "cell_type": "code",
   "execution_count": 81,
   "id": "4ce8cb26",
   "metadata": {},
   "outputs": [],
   "source": [
    "t = type(type)"
   ]
  },
  {
   "cell_type": "code",
   "execution_count": 82,
   "id": "ce231d49",
   "metadata": {},
   "outputs": [
    {
     "data": {
      "text/plain": [
       "['__abstractmethods__',\n",
       " '__base__',\n",
       " '__bases__',\n",
       " '__basicsize__',\n",
       " '__call__',\n",
       " '__class__',\n",
       " '__delattr__',\n",
       " '__dict__',\n",
       " '__dictoffset__',\n",
       " '__dir__',\n",
       " '__doc__',\n",
       " '__eq__',\n",
       " '__flags__',\n",
       " '__format__',\n",
       " '__ge__',\n",
       " '__getattribute__',\n",
       " '__gt__',\n",
       " '__hash__',\n",
       " '__init__',\n",
       " '__init_subclass__',\n",
       " '__instancecheck__',\n",
       " '__itemsize__',\n",
       " '__le__',\n",
       " '__lt__',\n",
       " '__module__',\n",
       " '__mro__',\n",
       " '__name__',\n",
       " '__ne__',\n",
       " '__new__',\n",
       " '__prepare__',\n",
       " '__qualname__',\n",
       " '__reduce__',\n",
       " '__reduce_ex__',\n",
       " '__repr__',\n",
       " '__setattr__',\n",
       " '__sizeof__',\n",
       " '__str__',\n",
       " '__subclasscheck__',\n",
       " '__subclasses__',\n",
       " '__subclasshook__',\n",
       " '__text_signature__',\n",
       " '__weakrefoffset__',\n",
       " 'mro']"
      ]
     },
     "execution_count": 82,
     "metadata": {},
     "output_type": "execute_result"
    }
   ],
   "source": [
    "dir(t)"
   ]
  },
  {
   "cell_type": "markdown",
   "id": "62743511",
   "metadata": {},
   "source": [
    "Here I can see that, I created an empty class but it already has a lot of methods (dunder methods, magic methods)... From where these guys come from? The answer is simple, all classes in python inherit from `object` built-in class that is responsible to implement all these methods."
   ]
  },
  {
   "cell_type": "markdown",
   "id": "2631b0e4",
   "metadata": {},
   "source": [
    "__hint!__\n",
    "\n",
    "In the course we talk about Exceptions, all exceptions are derived from an base class called BaseException but in the documentation is mentioned to don't inherit directly from that instead of it, inherit from `Exception` class."
   ]
  },
  {
   "cell_type": "code",
   "execution_count": 83,
   "id": "2ed7886d",
   "metadata": {},
   "outputs": [],
   "source": [
    "class MyError(Exception):\n",
    "    pass"
   ]
  },
  {
   "cell_type": "code",
   "execution_count": 85,
   "id": "38d81f69",
   "metadata": {},
   "outputs": [
    {
     "ename": "MyError",
     "evalue": "It's an error",
     "output_type": "error",
     "traceback": [
      "\u001b[1;31m---------------------------------------------------------------------------\u001b[0m",
      "\u001b[1;31mMyError\u001b[0m                                   Traceback (most recent call last)",
      "\u001b[1;32m<ipython-input-85-4b9e6e335d03>\u001b[0m in \u001b[0;36m<module>\u001b[1;34m\u001b[0m\n\u001b[1;32m----> 1\u001b[1;33m \u001b[1;32mraise\u001b[0m \u001b[0mMyError\u001b[0m\u001b[1;33m(\u001b[0m\u001b[1;34m\"It's an error\"\u001b[0m\u001b[1;33m)\u001b[0m\u001b[1;33m\u001b[0m\u001b[1;33m\u001b[0m\u001b[0m\n\u001b[0m",
      "\u001b[1;31mMyError\u001b[0m: It's an error"
     ]
    }
   ],
   "source": [
    "raise MyError(\"It's an error\")"
   ]
  },
  {
   "cell_type": "markdown",
   "id": "970c013b",
   "metadata": {},
   "source": [
    "Here I can see that with inheritance, I can define a custom exception class easily. Man, it's beautiful!"
   ]
  },
  {
   "cell_type": "markdown",
   "id": "a7e960f3",
   "metadata": {},
   "source": [
    "## UML: Unified Modeling Language\n",
    "\n",
    "* Is a standardized way to view the design of a system.\n",
    "* Often used to show class hierarchies in software projects.\n",
    "* Planning a projhect lets us make crucial design choices before start coding."
   ]
  },
  {
   "cell_type": "markdown",
   "id": "7797591a",
   "metadata": {},
   "source": [
    "![image.png](./source/inheritance_and_composition_a_python_oop_guide/uml_examples.png)"
   ]
  },
  {
   "cell_type": "markdown",
   "id": "5539c264",
   "metadata": {},
   "source": [
    "__Inheritance:__ Represented by a white arrow from subclass pointing to superclass.\n",
    "\n",
    "__Composition:__ Represented by a black diamond on the composite class with a arrow from composite to component."
   ]
  },
  {
   "cell_type": "markdown",
   "id": "ce542305",
   "metadata": {},
   "source": [
    "## Interfaces"
   ]
  },
  {
   "cell_type": "markdown",
   "id": "89f6a6f0",
   "metadata": {},
   "source": [
    "Bsically interface is the combination of attributes and methods of an object. Classes that have the same attributes and methods I can say that they have the same interface. Interface means how my object interact with other objects. \n",
    "Here, professor talk a little about __Liskov Substitution Principle__ which is the fact that you can change a superclass for a subclass because they share the same interface. Ex: Duck and Attack Duck."
   ]
  },
  {
   "cell_type": "markdown",
   "id": "8cd090b4",
   "metadata": {},
   "source": [
    "![image.png](./source/inheritance_and_composition_a_python_oop_guide/interface_example.png)"
   ]
  },
  {
   "cell_type": "markdown",
   "id": "64da171c",
   "metadata": {},
   "source": [
    "This is an example of interface defined based on UML pattern. It means that any class that have name, id attributes and calculate_payroll method can be used in this part of the program. It is conformed with __Liskov Substitution Principle__"
   ]
  },
  {
   "cell_type": "markdown",
   "id": "2b028b42",
   "metadata": {},
   "source": [
    "![image.png](./source/inheritance_and_composition_a_python_oop_guide/complete_uml_diagram_with_interface.png)"
   ]
  },
  {
   "cell_type": "markdown",
   "id": "7f1aaa8a",
   "metadata": {},
   "source": [
    "Here is an example of a complete UML diagram with an interface. The interface is represented with a square of a different color and with the expression <<Interface>> written on that.\n",
    "When I have classes that are conform with the interface, I put a dashed line pointing from the class to the interface with the word implements."
   ]
  },
  {
   "cell_type": "markdown",
   "id": "f2449798",
   "metadata": {},
   "source": [
    "### Questions:\n",
    "\n",
    "__1.__ What is __Employee__ called?\\\n",
    "__2.__ What is __SalaryEmployee__ called?\\\n",
    "__3.__ What Interface does __Employee__ expose?\\\n",
    "__4.__ What interface does __HourlyEmployee__ expose?\\\n",
    "__5.__ Why miight __CommissionEmployee__ inherit from __SalaryEmployee__ and not __Employee__?\\\n",
    "__6.__ What is the difference between an interface and a class?"
   ]
  },
  {
   "cell_type": "markdown",
   "id": "cdcbd498",
   "metadata": {},
   "source": [
    "### Answers:\n",
    "\n",
    "__1.__ Superclass, parent class.\\\n",
    "__2.__ Subclass, Child class.\\\n",
    "__3.__ Attributes __id__ and __name__.\\\n",
    "__4.__ Attributes __id__ and __name__ and method __calculate_payroll__\\\n",
    "__5.__ Because SalaryEmployee inherit from Employee so it's not needed to inherit directly from it. Another point is that __ComissionEmployee__ has its own implementation of calculate_payroll method and probably this guy has a salary too. So, it's possoble to use the parent method and extend its behaviour instead of have to implementing everythong from scratch.\\\n",
    "__6.__ Interfaces only talk about members, signatures, attributes and methods but don't tell nothing about implementation."
   ]
  },
  {
   "cell_type": "markdown",
   "id": "40d9af0e",
   "metadata": {},
   "source": []
  },
  {
   "cell_type": "code",
   "execution_count": null,
   "id": "30f15c0d",
   "metadata": {},
   "outputs": [],
   "source": []
  },
  {
   "cell_type": "code",
   "execution_count": null,
   "id": "addea402",
   "metadata": {},
   "outputs": [],
   "source": []
  },
  {
   "cell_type": "code",
   "execution_count": null,
   "id": "4af5dbf4",
   "metadata": {},
   "outputs": [],
   "source": []
  },
  {
   "cell_type": "code",
   "execution_count": null,
   "id": "4283fda9",
   "metadata": {},
   "outputs": [],
   "source": []
  },
  {
   "cell_type": "code",
   "execution_count": null,
   "id": "6259b5e8",
   "metadata": {},
   "outputs": [],
   "source": []
  }
 ],
 "metadata": {
  "kernelspec": {
   "display_name": "Python 3",
   "language": "python",
   "name": "python3"
  },
  "language_info": {
   "codemirror_mode": {
    "name": "ipython",
    "version": 3
   },
   "file_extension": ".py",
   "mimetype": "text/x-python",
   "name": "python",
   "nbconvert_exporter": "python",
   "pygments_lexer": "ipython3",
   "version": "3.8.8"
  }
 },
 "nbformat": 4,
 "nbformat_minor": 5
}
