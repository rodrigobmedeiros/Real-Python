{
 "cells": [
  {
   "cell_type": "markdown",
   "id": "df998a76",
   "metadata": {},
   "source": [
    "# Inheritance x Composition"
   ]
  },
  {
   "cell_type": "markdown",
   "id": "608527ab",
   "metadata": {},
   "source": [
    "## Inheritance: \n",
    "\n",
    "What common attributes and behaviors exist between real-world objects? The idea here is implement new classes based on a existing one reusing code. "
   ]
  },
  {
   "cell_type": "markdown",
   "id": "19bafd17",
   "metadata": {},
   "source": [
    "## Composition:\n",
    "\n",
    "How are objects in the real world composed (made up) of one another? In this case I have custom classes being used for other classes as attributes. For example: I have a `Person` class with attributes like, name, surname, address and others. Suppose that I want encapsulate address info into a new class. So in this case, I don't have inheritance, I have composition."
   ]
  },
  {
   "cell_type": "markdown",
   "id": "51f2fc81",
   "metadata": {},
   "source": [
    "## Details: Inheritance\n",
    "\n",
    "Inheritance is a kind of ` __is a__ `  relationship. Ex: Cat is an animal, Fish is an animal, Employee is a person and so on.\n",
    "It means that, for example Cat is an animal but defined in a more specific way. Cat has all attributes e behaviours of a animal but some specifics."
   ]
  },
  {
   "cell_type": "markdown",
   "id": "e3246f05",
   "metadata": {},
   "source": [
    "![teste](./source/inheritance_and_composition_a_python_oop_guide/employee_inheritance.png)"
   ]
  },
  {
   "cell_type": "markdown",
   "id": "f499bfee",
   "metadata": {},
   "source": [
    "In this example I have a superclass called employee and two subclasses called waitress and cashier. Here I can see some aspects of inheritance. When I do that, the subclass inherits all attributes and methods from superclass and implement new ones or modify the implementation of an already existing ones. For example, waitress class implements two new attributes (shifts and tips_total) and one new method (take_break). Beside that the class changes the implementation of work method. It means that in this class I have the work method but implemented in a different way."
   ]
  },
  {
   "cell_type": "markdown",
   "id": "42a8a4f6",
   "metadata": {},
   "source": [
    "__1.__ Does a waitress object have the ability to clock in? __YES!__\\\n",
    "__2.__ Does an employee object have a shifts attribute? __NO!__\\\n",
    "__3.__ Does a cashier object work the same way as an employee object? __NO!__"
   ]
  },
  {
   "cell_type": "markdown",
   "id": "38c704d2",
   "metadata": {},
   "source": [
    "## Details: Composition\n",
    "\n",
    "Composition is a kind of __has a__ relationship. It's possible to think like a __par of__ relationship."
   ]
  },
  {
   "attachments": {},
   "cell_type": "markdown",
   "id": "a1f3ef56",
   "metadata": {},
   "source": [
    "![image.png](./source/inheritance_and_composition_a_python_oop_guide/car_engine_composition.png)"
   ]
  },
  {
   "cell_type": "markdown",
   "id": "5be5a15b",
   "metadata": {},
   "source": [
    "In this case, I have a car, represented by the Car class. A car have attributes and methods. Between the attributes I have brand (string), model (string), year (integer) and engine(???). Yeah, the question is which type the attribute engine is? I don't have a built-in type so I can create one. A type called Engine with its attributes and methods, and now, I pass it to the Car class.\\\n",
    "Inside the Car class I can access all attributes and methods from Engine class, in this case the relationship is of the king __has a__, the car has an engine. So it's a composition."
   ]
  },
  {
   "cell_type": "markdown",
   "id": "d1b3680f",
   "metadata": {},
   "source": [
    "__1.__ What is the type of the engine attribute?\\\n",
    "__2.__ Does the __accelerate()__ method have access to the efficiency attribute?\\\n",
    "__3.__ Can the __ignite()__ method in the engine class access the brand attribute?"
   ]
  },
  {
   "cell_type": "markdown",
   "id": "5ef9a49b",
   "metadata": {},
   "source": [
    "### Answers:\n",
    "__1.__ Engine type\\\n",
    "__2.__ YES!\\\n",
    "__3.__ NO!"
   ]
  },
  {
   "cell_type": "markdown",
   "id": "24f42430",
   "metadata": {},
   "source": [
    "The engine class is blinded where it's being used =D"
   ]
  },
  {
   "cell_type": "code",
   "execution_count": null,
   "id": "db589b9f",
   "metadata": {},
   "outputs": [],
   "source": []
  },
  {
   "cell_type": "code",
   "execution_count": null,
   "id": "82db8e4f",
   "metadata": {},
   "outputs": [],
   "source": []
  },
  {
   "cell_type": "code",
   "execution_count": null,
   "id": "b757cc6c",
   "metadata": {},
   "outputs": [],
   "source": []
  },
  {
   "cell_type": "code",
   "execution_count": null,
   "id": "a40debc6",
   "metadata": {},
   "outputs": [],
   "source": []
  },
  {
   "cell_type": "code",
   "execution_count": null,
   "id": "0a5de86c",
   "metadata": {},
   "outputs": [],
   "source": []
  },
  {
   "cell_type": "code",
   "execution_count": null,
   "id": "af2fddd0",
   "metadata": {},
   "outputs": [],
   "source": []
  }
 ],
 "metadata": {
  "kernelspec": {
   "display_name": "Python 3",
   "language": "python",
   "name": "python3"
  },
  "language_info": {
   "codemirror_mode": {
    "name": "ipython",
    "version": 3
   },
   "file_extension": ".py",
   "mimetype": "text/x-python",
   "name": "python",
   "nbconvert_exporter": "python",
   "pygments_lexer": "ipython3",
   "version": "3.8.8"
  }
 },
 "nbformat": 4,
 "nbformat_minor": 5
}
