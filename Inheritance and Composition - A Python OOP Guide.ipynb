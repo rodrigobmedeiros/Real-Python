{
 "cells": [
  {
   "cell_type": "markdown",
   "id": "380bac9c",
   "metadata": {},
   "source": [
    "# Inheritance x Composition"
   ]
  },
  {
   "cell_type": "markdown",
   "id": "1143842b",
   "metadata": {},
   "source": [
    "## Inheritance: \n",
    "\n",
    "What common attributes and behaviors exist between real-world objects? The idea here is implement new classes based on a existing one reusing code. "
   ]
  },
  {
   "cell_type": "markdown",
   "id": "b339b932",
   "metadata": {},
   "source": [
    "## Composition:\n",
    "\n",
    "How are objects in the real world composed (made up) of one another? In this case I have custom classes being used for other classes as attributes. For example: I have a `Person` class with attributes like, name, surname, address and others. Suppose that I want encapsulate address info into a new class. So in this case, I don't have inheritance, I have composition."
   ]
  },
  {
   "cell_type": "markdown",
   "id": "5abb7e1d",
   "metadata": {},
   "source": [
    "## Details: Inheritance\n",
    "\n",
    "Inheritance is a kind of ` __is a__ `  relationship. Ex: Cat is an animal, Fish is an animal, Employee is a person and so on.\n",
    "It means that, for example Cat is an animal but defined in a more specific way. Cat has all attributes e behaviours of a animal but some specifics."
   ]
  },
  {
   "cell_type": "markdown",
   "id": "de529f44",
   "metadata": {},
   "source": [
    "![teste](./source/inheritance_and_composition_a_python_oop_guide/employee_inheritance.png)"
   ]
  },
  {
   "cell_type": "markdown",
   "id": "4b2659aa",
   "metadata": {},
   "source": [
    "In this example I have a superclass called employee and two subclasses called waitress and cashier. Here I can see some aspects of inheritance. When I do that, the subclass inherits all attributes and methods from superclass and implement new ones or modify the implementation of an already existing ones. For example, waitress class implements two new attributes (shifts and tips_total) and one new method (take_break). Beside that the class changes the implementation of work method. It means that in this class I have the work method but implemented in a different way."
   ]
  },
  {
   "cell_type": "markdown",
   "id": "a58e10bb",
   "metadata": {},
   "source": [
    "__1.__ Does a waitress object have the ability to clock in? __YES!__\\\n",
    "__2.__ Does an employee object have a shifts attribute? __NO!__\\\n",
    "__3.__ Does a cashier object work the same way as an employee object? __NO!__"
   ]
  },
  {
   "cell_type": "markdown",
   "id": "695bdb54",
   "metadata": {},
   "source": [
    "## Details: Composition\n",
    "\n",
    "Composition is a kind of __has a__ relationship. It's possible to think like a __par of__ relationship."
   ]
  },
  {
   "cell_type": "markdown",
   "id": "c63f3db4",
   "metadata": {},
   "source": [
    "![image.png](./source/inheritance_and_composition_a_python_oop_guide/car_engine_composition.png)"
   ]
  },
  {
   "cell_type": "markdown",
   "id": "c181fc56",
   "metadata": {},
   "source": [
    "In this case, I have a car, represented by the Car class. A car have attributes and methods. Between the attributes I have brand (string), model (string), year (integer) and engine(???). Yeah, the question is which type the attribute engine is? I don't have a built-in type so I can create one. A type called Engine with its attributes and methods, and now, I pass it to the Car class.\\\n",
    "Inside the Car class I can access all attributes and methods from Engine class, in this case the relationship is of the king __has a__, the car has an engine. So it's a composition."
   ]
  },
  {
   "cell_type": "markdown",
   "id": "a6510c26",
   "metadata": {},
   "source": [
    "__1.__ What is the type of the engine attribute?\\\n",
    "__2.__ Does the __accelerate()__ method have access to the efficiency attribute?\\\n",
    "__3.__ Can the __ignite()__ method in the engine class access the brand attribute?"
   ]
  },
  {
   "cell_type": "markdown",
   "id": "81836668",
   "metadata": {},
   "source": [
    "### Answers:\n",
    "__1.__ Engine type\\\n",
    "__2.__ YES!\\\n",
    "__3.__ NO!"
   ]
  },
  {
   "cell_type": "markdown",
   "id": "b87149e2",
   "metadata": {},
   "source": [
    "The engine class is blinded where it's being used =D"
   ]
  },
  {
   "cell_type": "markdown",
   "id": "af360c7a",
   "metadata": {},
   "source": [
    "__Composite:__ Class that has another one.\\\n",
    "__Component:__ Class that is used inside another class."
   ]
  },
  {
   "cell_type": "markdown",
   "id": "50d9361c",
   "metadata": {},
   "source": [
    "### Inheritance in python"
   ]
  },
  {
   "cell_type": "code",
   "execution_count": 72,
   "id": "f5d70985",
   "metadata": {},
   "outputs": [],
   "source": [
    "class MyClass:\n",
    "    pass"
   ]
  },
  {
   "cell_type": "code",
   "execution_count": 73,
   "id": "4daaa054",
   "metadata": {},
   "outputs": [],
   "source": [
    "c = MyClass()"
   ]
  },
  {
   "cell_type": "markdown",
   "id": "85b7cb5b",
   "metadata": {},
   "source": [
    "There's a built-in function called dir() that can be used to list all members of a class, which basically means attributes and methods."
   ]
  },
  {
   "cell_type": "code",
   "execution_count": 74,
   "id": "43950b44",
   "metadata": {},
   "outputs": [
    {
     "data": {
      "text/plain": [
       "['__class__',\n",
       " '__delattr__',\n",
       " '__dict__',\n",
       " '__dir__',\n",
       " '__doc__',\n",
       " '__eq__',\n",
       " '__format__',\n",
       " '__ge__',\n",
       " '__getattribute__',\n",
       " '__gt__',\n",
       " '__hash__',\n",
       " '__init__',\n",
       " '__init_subclass__',\n",
       " '__le__',\n",
       " '__lt__',\n",
       " '__module__',\n",
       " '__ne__',\n",
       " '__new__',\n",
       " '__reduce__',\n",
       " '__reduce_ex__',\n",
       " '__repr__',\n",
       " '__setattr__',\n",
       " '__sizeof__',\n",
       " '__str__',\n",
       " '__subclasshook__',\n",
       " '__weakref__']"
      ]
     },
     "execution_count": 74,
     "metadata": {},
     "output_type": "execute_result"
    }
   ],
   "source": [
    "dir(c)"
   ]
  },
  {
   "cell_type": "code",
   "execution_count": 75,
   "id": "f6a1b645",
   "metadata": {},
   "outputs": [],
   "source": [
    "o = object()"
   ]
  },
  {
   "cell_type": "code",
   "execution_count": 76,
   "id": "ebf20062",
   "metadata": {},
   "outputs": [
    {
     "data": {
      "text/plain": [
       "['__class__',\n",
       " '__delattr__',\n",
       " '__dir__',\n",
       " '__doc__',\n",
       " '__eq__',\n",
       " '__format__',\n",
       " '__ge__',\n",
       " '__getattribute__',\n",
       " '__gt__',\n",
       " '__hash__',\n",
       " '__init__',\n",
       " '__init_subclass__',\n",
       " '__le__',\n",
       " '__lt__',\n",
       " '__ne__',\n",
       " '__new__',\n",
       " '__reduce__',\n",
       " '__reduce_ex__',\n",
       " '__repr__',\n",
       " '__setattr__',\n",
       " '__sizeof__',\n",
       " '__str__',\n",
       " '__subclasshook__']"
      ]
     },
     "execution_count": 76,
     "metadata": {},
     "output_type": "execute_result"
    }
   ],
   "source": [
    "dir(o)"
   ]
  },
  {
   "cell_type": "code",
   "execution_count": 78,
   "id": "28c386ae",
   "metadata": {},
   "outputs": [
    {
     "data": {
      "text/plain": [
       "{'__dict__', '__module__', '__weakref__'}"
      ]
     },
     "execution_count": 78,
     "metadata": {},
     "output_type": "execute_result"
    }
   ],
   "source": [
    "set(dir(c)) - set(dir(o))"
   ]
  },
  {
   "cell_type": "code",
   "execution_count": 81,
   "id": "4ce8cb26",
   "metadata": {},
   "outputs": [],
   "source": [
    "t = type(type)"
   ]
  },
  {
   "cell_type": "code",
   "execution_count": 82,
   "id": "ce231d49",
   "metadata": {},
   "outputs": [
    {
     "data": {
      "text/plain": [
       "['__abstractmethods__',\n",
       " '__base__',\n",
       " '__bases__',\n",
       " '__basicsize__',\n",
       " '__call__',\n",
       " '__class__',\n",
       " '__delattr__',\n",
       " '__dict__',\n",
       " '__dictoffset__',\n",
       " '__dir__',\n",
       " '__doc__',\n",
       " '__eq__',\n",
       " '__flags__',\n",
       " '__format__',\n",
       " '__ge__',\n",
       " '__getattribute__',\n",
       " '__gt__',\n",
       " '__hash__',\n",
       " '__init__',\n",
       " '__init_subclass__',\n",
       " '__instancecheck__',\n",
       " '__itemsize__',\n",
       " '__le__',\n",
       " '__lt__',\n",
       " '__module__',\n",
       " '__mro__',\n",
       " '__name__',\n",
       " '__ne__',\n",
       " '__new__',\n",
       " '__prepare__',\n",
       " '__qualname__',\n",
       " '__reduce__',\n",
       " '__reduce_ex__',\n",
       " '__repr__',\n",
       " '__setattr__',\n",
       " '__sizeof__',\n",
       " '__str__',\n",
       " '__subclasscheck__',\n",
       " '__subclasses__',\n",
       " '__subclasshook__',\n",
       " '__text_signature__',\n",
       " '__weakrefoffset__',\n",
       " 'mro']"
      ]
     },
     "execution_count": 82,
     "metadata": {},
     "output_type": "execute_result"
    }
   ],
   "source": [
    "dir(t)"
   ]
  },
  {
   "cell_type": "markdown",
   "id": "62743511",
   "metadata": {},
   "source": [
    "Here I can see that, I created an empty class but it already has a lot of methods (dunder methods, magic methods)... From where these guys come from? The answer is simple, all classes in python inherit from `object` built-in class that is responsible to implement all these methods."
   ]
  },
  {
   "cell_type": "markdown",
   "id": "2631b0e4",
   "metadata": {},
   "source": [
    "__hint!__\n",
    "\n",
    "In the course we talk about Exceptions, all exceptions are derived from an base class called BaseException but in the documentation is mentioned to don't inherit directly from that instead of it, inherit from `Exception` class."
   ]
  },
  {
   "cell_type": "code",
   "execution_count": 83,
   "id": "2ed7886d",
   "metadata": {},
   "outputs": [],
   "source": [
    "class MyError(Exception):\n",
    "    pass"
   ]
  },
  {
   "cell_type": "code",
   "execution_count": 85,
   "id": "38d81f69",
   "metadata": {},
   "outputs": [
    {
     "ename": "MyError",
     "evalue": "It's an error",
     "output_type": "error",
     "traceback": [
      "\u001b[1;31m---------------------------------------------------------------------------\u001b[0m",
      "\u001b[1;31mMyError\u001b[0m                                   Traceback (most recent call last)",
      "\u001b[1;32m<ipython-input-85-4b9e6e335d03>\u001b[0m in \u001b[0;36m<module>\u001b[1;34m\u001b[0m\n\u001b[1;32m----> 1\u001b[1;33m \u001b[1;32mraise\u001b[0m \u001b[0mMyError\u001b[0m\u001b[1;33m(\u001b[0m\u001b[1;34m\"It's an error\"\u001b[0m\u001b[1;33m)\u001b[0m\u001b[1;33m\u001b[0m\u001b[1;33m\u001b[0m\u001b[0m\n\u001b[0m",
      "\u001b[1;31mMyError\u001b[0m: It's an error"
     ]
    }
   ],
   "source": [
    "raise MyError(\"It's an error\")"
   ]
  },
  {
   "cell_type": "markdown",
   "id": "970c013b",
   "metadata": {},
   "source": [
    "Here I can see that with inheritance, I can define a custom exception class easily. Man, it's beautiful!"
   ]
  },
  {
   "cell_type": "markdown",
   "id": "a7e960f3",
   "metadata": {},
   "source": [
    "## UML: Unified Modeling Language\n",
    "\n",
    "* Is a standardized way to view the design of a system.\n",
    "* Often used to show class hierarchies in software projects.\n",
    "* Planning a projhect lets us make crucial design choices before start coding."
   ]
  },
  {
   "cell_type": "markdown",
   "id": "7797591a",
   "metadata": {},
   "source": [
    "![image.png](./source/inheritance_and_composition_a_python_oop_guide/uml_examples.png)"
   ]
  },
  {
   "cell_type": "markdown",
   "id": "5539c264",
   "metadata": {},
   "source": [
    "__Inheritance:__ Represented by a white arrow from subclass pointing to superclass.\n",
    "\n",
    "__Composition:__ Represented by a black diamond on the composite class with a arrow from composite to component."
   ]
  },
  {
   "cell_type": "markdown",
   "id": "ce542305",
   "metadata": {},
   "source": [
    "## Interfaces"
   ]
  },
  {
   "cell_type": "markdown",
   "id": "89f6a6f0",
   "metadata": {},
   "source": [
    "Bsically interface is the combination of attributes and methods of an object. Classes that have the same attributes and methods I can say that they have the same interface. Interface means how my object interact with other objects. \n",
    "Here, professor talk a little about __Liskov Substitution Principle__ which is the fact that you can change a superclass for a subclass because they share the same interface. Ex: Duck and Attack Duck."
   ]
  },
  {
   "cell_type": "markdown",
   "id": "8cd090b4",
   "metadata": {},
   "source": [
    "![image.png](./source/inheritance_and_composition_a_python_oop_guide/interface_example.png)"
   ]
  },
  {
   "cell_type": "markdown",
   "id": "64da171c",
   "metadata": {},
   "source": [
    "This is an example of interface defined based on UML pattern. It means that any class that have name, id attributes and calculate_payroll method can be used in this part of the program. It is conformed with __Liskov Substitution Principle__"
   ]
  },
  {
   "cell_type": "markdown",
   "id": "2b028b42",
   "metadata": {},
   "source": [
    "![image.png](./source/inheritance_and_composition_a_python_oop_guide/complete_uml_diagram_with_interface.png)"
   ]
  },
  {
   "cell_type": "markdown",
   "id": "7f1aaa8a",
   "metadata": {},
   "source": [
    "Here is an example of a complete UML diagram with an interface. The interface is represented with a square of a different color and with the expression <<Interface>> written on that.\n",
    "When I have classes that are conform with the interface, I put a dashed line pointing from the class to the interface with the word implements."
   ]
  },
  {
   "cell_type": "markdown",
   "id": "f2449798",
   "metadata": {},
   "source": [
    "### Questions:\n",
    "\n",
    "__1.__ What is __Employee__ called?\\\n",
    "__2.__ What is __SalaryEmployee__ called?\\\n",
    "__3.__ What Interface does __Employee__ expose?\\\n",
    "__4.__ What interface does __HourlyEmployee__ expose?\\\n",
    "__5.__ Why miight __CommissionEmployee__ inherit from __SalaryEmployee__ and not __Employee__?\\\n",
    "__6.__ What is the difference between an interface and a class?"
   ]
  },
  {
   "cell_type": "markdown",
   "id": "cdcbd498",
   "metadata": {},
   "source": [
    "### Answers:\n",
    "\n",
    "__1.__ Superclass, parent class.\\\n",
    "__2.__ Subclass, Child class.\\\n",
    "__3.__ Attributes __id__ and __name__.\\\n",
    "__4.__ Attributes __id__ and __name__ and method __calculate_payroll__\\\n",
    "__5.__ Because SalaryEmployee inherit from Employee so it's not needed to inherit directly from it. Another point is that __ComissionEmployee__ has its own implementation of calculate_payroll method and probably this guy has a salary too. So, it's possoble to use the parent method and extend its behaviour instead of have to implementing everythong from scratch.\\\n",
    "__6.__ Interfaces only talk about members, signatures, attributes and methods but don't tell nothing about implementation."
   ]
  },
  {
   "cell_type": "markdown",
   "id": "a8f7fbca",
   "metadata": {},
   "source": [
    "## Implementing Class Hierarchy"
   ]
  },
  {
   "cell_type": "markdown",
   "id": "d8feeff1",
   "metadata": {},
   "source": [
    "Now, let's code and implement the class hierarchy based on previous UML diagram."
   ]
  },
  {
   "cell_type": "markdown",
   "id": "12dac994",
   "metadata": {},
   "source": [
    "At first, I'll implement the `PayrollSystem` class, this class is not in UML diagram and is a class that get a collection of employess and calculate the salary of each one."
   ]
  },
  {
   "cell_type": "code",
   "execution_count": 123,
   "id": "4283fda9",
   "metadata": {},
   "outputs": [],
   "source": [
    "class PayrollSystem:\n",
    "    def calculate_payroll(self, employees):\n",
    "        \n",
    "        print('Calculating Payroll')\n",
    "        print('====================')\n",
    "        for employee in employees:\n",
    "            print(f'Payroll for: {employee.id} - {employee.name}')\n",
    "            print(f'- Check Amount: {employee.calculate_payroll()}')\n",
    "            print('')"
   ]
  },
  {
   "cell_type": "markdown",
   "id": "4e9d6ac2",
   "metadata": {},
   "source": [
    "Nice!\\\n",
    "Here I think the Interface idea became more explicit. This class payroll system receive a collection of objcets. To perform the calculation for each one without errors all objects have to have the members id and name (attributes) and calculate_payroll (method). Doen's matter, all objects with this interface will be used without errors inside PayrollSystem class. In this situation make sense define an interface and have one or more class that implements this interface."
   ]
  },
  {
   "cell_type": "code",
   "execution_count": 124,
   "id": "fb1cbb10",
   "metadata": {},
   "outputs": [],
   "source": [
    "class Employee:\n",
    "    \n",
    "    def __init__(self, id, name):\n",
    "        self.id = id\n",
    "        self.name = name"
   ]
  },
  {
   "cell_type": "code",
   "execution_count": 149,
   "id": "a4bd70ef",
   "metadata": {},
   "outputs": [],
   "source": [
    "class SalaryEmployee(Employee):\n",
    "    \n",
    "    def __init__(self, id, name, weekly_salary):\n",
    "        super().__init__(id, name)\n",
    "        self.weekly_salary = weekly_salary\n",
    "        print(f'SALARY EMPLOYEE init method')\n",
    "        \n",
    "    def calculate_payroll(self):\n",
    "        \n",
    "        return 4.33 * self.weekly_salary"
   ]
  },
  {
   "cell_type": "code",
   "execution_count": 150,
   "id": "1d65ac82",
   "metadata": {},
   "outputs": [],
   "source": [
    "class HourlyEmployee(Employee):\n",
    "    \n",
    "    def __init__(self, id, name, worked_hours, hour_rate):\n",
    "        super().__init__(id, name)\n",
    "        self.worked_hours= worked_hours\n",
    "        self.hour_rate = hour_rate\n",
    "        print(f'HOURLY EMPLOYEE init method')\n",
    "        \n",
    "    def calculate_payroll(self):\n",
    "        \n",
    "        return self.worked_hours * self.hour_rate"
   ]
  },
  {
   "cell_type": "code",
   "execution_count": 151,
   "id": "591305cc",
   "metadata": {},
   "outputs": [],
   "source": [
    "class ComissionEmployee(SalaryEmployee):\n",
    "    \n",
    "    def __init__(self, id, name, weekly_salary, comission):\n",
    "        super().__init__(id, name, weekly_salary)\n",
    "        self.comission = comission\n",
    "        \n",
    "    def calculate_payroll(self):\n",
    "        fixed_salary = super().calculate_payroll()\n",
    "        return fixed_salary + self.comission"
   ]
  },
  {
   "cell_type": "markdown",
   "id": "913cbb80",
   "metadata": {},
   "source": [
    "Here I can see the implementation of all classes, as saw in UML diagram, all these classes implements the IPayrollCalculator interface. It means that where needed all these classes will work with this pattern."
   ]
  },
  {
   "cell_type": "code",
   "execution_count": 152,
   "id": "0e6d8568",
   "metadata": {},
   "outputs": [
    {
     "name": "stdout",
     "output_type": "stream",
     "text": [
      "EMPLOYEE init method\n",
      "SALARY EMPLOYEE init method\n",
      "EMPLOYEE init method\n",
      "HOURLY EMPLOYEE init method\n",
      "EMPLOYEE init method\n",
      "SALARY EMPLOYEE init method\n",
      "Calculating Payroll\n",
      "====================\n",
      "Payroll for: 1 - Rodrigo\n",
      "- Check Amount: 4330.0\n",
      "\n",
      "Payroll for: 2 - Renata\n",
      "- Check Amount: 1920\n",
      "\n",
      "Payroll for: 3 - Adriane\n",
      "- Check Amount: 4580.0\n",
      "\n"
     ]
    }
   ],
   "source": [
    "salary_employee = SalaryEmployee(1, 'Rodrigo', 1000)\n",
    "hourly_employee = HourlyEmployee(2, 'Renata', 160, 12)\n",
    "comission_employee = ComissionEmployee(3, 'Adriane', 1000, 250)\n",
    "\n",
    "employees = [\n",
    "    salary_employee,\n",
    "    hourly_employee,\n",
    "    comission_employee\n",
    "]\n",
    "\n",
    "payroll_system = PayrollSystem()\n",
    "payroll_system.calculate_payroll(employees)"
   ]
  },
  {
   "cell_type": "markdown",
   "id": "02061502",
   "metadata": {},
   "source": [
    "I'm very happy to understand these points and enjoying learning UML too. It's amazing! And will help me to understand and study other subjects."
   ]
  },
  {
   "cell_type": "markdown",
   "id": "49e8c7eb",
   "metadata": {},
   "source": [
    "## Abstract Class"
   ]
  },
  {
   "cell_type": "markdown",
   "id": "87a6dcfe",
   "metadata": {},
   "source": [
    "In this part we reflect a little about Employee class that is used only to be inherit from and not to be instantiated. But in the way it was implemented an user can create objects from it. \n",
    "\n",
    "### How to create a abstract class?\n",
    "\n",
    "I just have to import ABC from abc and make my class inherit from it. I'll use a decorator called `abstractmethod` what means that the method will not be implemented by parente class, It will force the child class to implement it."
   ]
  },
  {
   "cell_type": "code",
   "execution_count": 153,
   "id": "ca86cf37",
   "metadata": {},
   "outputs": [],
   "source": [
    "from abc import ABC, abstractmethod\n",
    "\n",
    "class Employee(ABC):\n",
    "    def __init__(self, id, name):\n",
    "        self.id = id\n",
    "        self.name = name\n",
    "        print(f'EMPLOYEE init method')\n",
    "        \n",
    "    @abstractmethod\n",
    "    def calculate_payroll(self):\n",
    "        pass"
   ]
  },
  {
   "cell_type": "markdown",
   "id": "dcaf0e87",
   "metadata": {},
   "source": [
    "## Implementing the Productivity System"
   ]
  },
  {
   "cell_type": "markdown",
   "id": "cd413ce7",
   "metadata": {},
   "source": [
    "Here in this section, a `Productivity System` is implemented, in order to include a method called work for all employees. This system requires that all employees have a method called work(). In the actual configuration, I'll have to implement new classes to do this job. Actually the course showed that probably to explore the wrong way to do that.\n",
    "\n",
    "- Creation of 4 new classes:\n",
    "\n",
    "1. Manager: SalaryEmployee\n",
    "2. Secretary: SalaryEmployee\n",
    "3. SalesPerson: ComissionEmployee\n",
    "4. FactoryWorker: HourlyEmployee"
   ]
  },
  {
   "cell_type": "code",
   "execution_count": 154,
   "id": "5d96949d",
   "metadata": {},
   "outputs": [],
   "source": [
    "class Manager(SalaryEmployee):\n",
    "    def work(self, hours):\n",
    "        \n",
    "        print(f'{self.name} screams and yells for {hours} hours.')\n",
    "        \n",
    "class Secretary(SalaryEmployee):\n",
    "    \n",
    "    def work(self, hours):\n",
    "        \n",
    "        print(f'{self.name} expends {hours} hours doing office paperwork.')\n",
    "        \n",
    "class SalesPerson(ComissionEmployee):\n",
    "    def work(self, hours):\n",
    "\n",
    "        print(f'{self.name} expends {hours} hours on the phone.')\n",
    "\n",
    "class FactoryWorker(HourlyEmployee):\n",
    "    def work(self, hours):\n",
    "        \n",
    "        print(f'{self.name} manufacters gadgets for {hours} hours.')"
   ]
  },
  {
   "cell_type": "code",
   "execution_count": 155,
   "id": "6ea43ac7",
   "metadata": {},
   "outputs": [],
   "source": [
    "class ProductivitySystem:\n",
    "    def work(self, employees, hours):\n",
    "        \n",
    "        print('Tracking Employee Productivity')\n",
    "        print('==============================')\n",
    "        for employee in employees:\n",
    "            employee.work(hours)\n",
    "            print('')"
   ]
  },
  {
   "cell_type": "code",
   "execution_count": 156,
   "id": "96cd7af8",
   "metadata": {},
   "outputs": [
    {
     "name": "stdout",
     "output_type": "stream",
     "text": [
      "EMPLOYEE init method\n",
      "SALARY EMPLOYEE init method\n",
      "EMPLOYEE init method\n",
      "SALARY EMPLOYEE init method\n",
      "EMPLOYEE init method\n",
      "SALARY EMPLOYEE init method\n",
      "EMPLOYEE init method\n",
      "HOURLY EMPLOYEE init method\n",
      "Tracking Employee Productivity\n",
      "==============================\n",
      "Rodrigo screams and yells for 40 hours.\n",
      "\n",
      "Renata expends 40 hours doing office paperwork.\n",
      "\n",
      "Adriane expends 40 hours on the phone.\n",
      "\n",
      "Gilberto manufacters gadgets for 40 hours.\n",
      "\n",
      "Calculating Payroll\n",
      "====================\n",
      "Payroll for: 1 - Rodrigo\n",
      "- Check Amount: 4330.0\n",
      "\n",
      "Payroll for: 2 - Renata\n",
      "- Check Amount: 3464.0\n",
      "\n",
      "Payroll for: 3 - Adriane\n",
      "- Check Amount: 4580.0\n",
      "\n",
      "Payroll for: 4 - Gilberto\n",
      "- Check Amount: 400\n",
      "\n"
     ]
    }
   ],
   "source": [
    "manager = Manager(1, 'Rodrigo', 1000)\n",
    "secretary = Secretary(2, 'Renata', 800)\n",
    "sales_person = SalesPerson(3, 'Adriane', 1000, 250)\n",
    "factory_worker = FactoryWorker(4, 'Gilberto', 40, 10)\n",
    "\n",
    "employees = [\n",
    "    manager,\n",
    "    secretary,\n",
    "    sales_person,\n",
    "    factory_worker\n",
    "]\n",
    "\n",
    "productivity_system = ProductivitySystem()\n",
    "productivity_system.work(employees, 40)\n",
    "\n",
    "payroll_system = PayrollSystem()\n",
    "payroll_system.calculate_payroll(employees)"
   ]
  },
  {
   "cell_type": "markdown",
   "id": "d218bda4",
   "metadata": {},
   "source": [
    "After Creating all these classes, I have to update the UML diagram."
   ]
  },
  {
   "cell_type": "markdown",
   "id": "465e0971",
   "metadata": {},
   "source": [
    "![image.png](./source/inheritance_and_composition_a_python_oop_guide/uml_diagram_with_new_classes.png)"
   ]
  },
  {
   "cell_type": "markdown",
   "id": "2adb9654",
   "metadata": {},
   "source": [
    "As we can see, with the implementation of the productivity system, I have a new Interface requiring classes that have the work method. With that four kinds of employees were implemented to satisfy this requirement. \n",
    "Everything works fine but the problem is that fast the complexity grows up. How to deal with that, it's whats we'll se in the next section."
   ]
  },
  {
   "cell_type": "markdown",
   "id": "ca396ee8",
   "metadata": {},
   "source": [
    "## Multiple Inheritance"
   ]
  },
  {
   "cell_type": "markdown",
   "id": "086a023c",
   "metadata": {},
   "source": [
    "Here we talk a little about MRO (Method Resolution Order), when work with multiple inheritance. The problem is that a question rise when we do that. If we just inherit from more than one class, which method will be called. The answer is the MRO, a list with all parent classes in order."
   ]
  },
  {
   "cell_type": "code",
   "execution_count": 157,
   "id": "3bee3609",
   "metadata": {},
   "outputs": [],
   "source": [
    "class TemporarySecretary(Secretary, HourlyEmployee):\n",
    "    pass"
   ]
  },
  {
   "cell_type": "code",
   "execution_count": 158,
   "id": "fef9e80f",
   "metadata": {},
   "outputs": [
    {
     "data": {
      "text/plain": [
       "(__main__.TemporarySecretary,\n",
       " __main__.Secretary,\n",
       " __main__.SalaryEmployee,\n",
       " __main__.HourlyEmployee,\n",
       " __main__.Employee,\n",
       " abc.ABC,\n",
       " object)"
      ]
     },
     "execution_count": 158,
     "metadata": {},
     "output_type": "execute_result"
    }
   ],
   "source": [
    "TemporarySecretary.__mro__"
   ]
  },
  {
   "cell_type": "markdown",
   "id": "11d0e7aa",
   "metadata": {},
   "source": [
    "With the `MRO` I can track all parent classes in order. If I need a method, I'll look through this list."
   ]
  },
  {
   "cell_type": "code",
   "execution_count": 161,
   "id": "1c5cecff",
   "metadata": {},
   "outputs": [
    {
     "ename": "TypeError",
     "evalue": "__init__() takes 4 positional arguments but 5 were given",
     "output_type": "error",
     "traceback": [
      "\u001b[1;31m---------------------------------------------------------------------------\u001b[0m",
      "\u001b[1;31mTypeError\u001b[0m                                 Traceback (most recent call last)",
      "\u001b[1;32m<ipython-input-161-5cab2c5cdc58>\u001b[0m in \u001b[0;36m<module>\u001b[1;34m\u001b[0m\n\u001b[1;32m----> 1\u001b[1;33m \u001b[0mtemporary_secretary\u001b[0m \u001b[1;33m=\u001b[0m \u001b[0mTemporarySecretary\u001b[0m\u001b[1;33m(\u001b[0m\u001b[1;36m1\u001b[0m\u001b[1;33m,\u001b[0m \u001b[1;34m'Renata'\u001b[0m\u001b[1;33m,\u001b[0m \u001b[1;36m40\u001b[0m\u001b[1;33m,\u001b[0m \u001b[1;36m10\u001b[0m\u001b[1;33m)\u001b[0m\u001b[1;33m\u001b[0m\u001b[1;33m\u001b[0m\u001b[0m\n\u001b[0m",
      "\u001b[1;31mTypeError\u001b[0m: __init__() takes 4 positional arguments but 5 were given"
     ]
    }
   ],
   "source": [
    "temporary_secretary = TemporarySecretary(1, 'Renata', 40, 10)"
   ]
  },
  {
   "cell_type": "markdown",
   "id": "15b45e68",
   "metadata": {},
   "source": [
    "If you have methods with different signatures it's a problem. You have to explicit call internally the method you want. How to do that? With `super()` method."
   ]
  },
  {
   "cell_type": "code",
   "execution_count": 185,
   "id": "9e83c643",
   "metadata": {},
   "outputs": [],
   "source": [
    "class TemporarySecretary(Secretary, HourlyEmployee):\n",
    "    def __init__(self, id, name, hours_worked, hour_rate):\n",
    "        HourlyEmployee.__init__(self, id, name, hours_worked, hour_rate)\n",
    "        \n",
    "    def calculate_payroll(self):\n",
    "        \n",
    "        return HourlyEmployee.calculate_payroll(self)"
   ]
  },
  {
   "cell_type": "code",
   "execution_count": 186,
   "id": "9f9d8393",
   "metadata": {},
   "outputs": [
    {
     "name": "stdout",
     "output_type": "stream",
     "text": [
      "EMPLOYEE init method\n",
      "HOURLY EMPLOYEE init method\n"
     ]
    }
   ],
   "source": [
    "temporary_secretary = TemporarySecretary(1, 'Renata', 160, 10)"
   ]
  },
  {
   "cell_type": "code",
   "execution_count": 187,
   "id": "d278287e",
   "metadata": {},
   "outputs": [
    {
     "data": {
      "text/plain": [
       "1600"
      ]
     },
     "execution_count": 187,
     "metadata": {},
     "output_type": "execute_result"
    }
   ],
   "source": [
    "temporary_secretary.calculate_payroll()"
   ]
  },
  {
   "cell_type": "code",
   "execution_count": 189,
   "id": "f9a73496",
   "metadata": {},
   "outputs": [
    {
     "name": "stdout",
     "output_type": "stream",
     "text": [
      "Renata expends 10 hours doing office paperwork.\n"
     ]
    }
   ],
   "source": [
    "temporary_secretary.work(10)"
   ]
  },
  {
   "cell_type": "markdown",
   "id": "566e2826",
   "metadata": {},
   "source": [
    "I think I understand this concept. In multiple inheritance when I use super() method I didn't call the parent of the current class, actually I call the next class in `__mro__` list."
   ]
  },
  {
   "cell_type": "code",
   "execution_count": 169,
   "id": "7eacb12b",
   "metadata": {},
   "outputs": [
    {
     "data": {
      "text/plain": [
       "(__main__.TemporarySecretary,\n",
       " __main__.Secretary,\n",
       " __main__.SalaryEmployee,\n",
       " __main__.HourlyEmployee,\n",
       " __main__.Employee,\n",
       " abc.ABC,\n",
       " object)"
      ]
     },
     "execution_count": 169,
     "metadata": {},
     "output_type": "execute_result"
    }
   ],
   "source": [
    "TemporarySecretary.__mro__"
   ]
  },
  {
   "cell_type": "markdown",
   "id": "5b382c9b",
   "metadata": {},
   "source": [
    "## C3 Linearization Algorithm\n",
    "\n",
    "This is the algorithm behind the `__mro__` order.  As seen earlier the mro is the list of parent classes organized to support multiple inheritance.\n",
    "Let's understant better this algorithm."
   ]
  },
  {
   "attachments": {
    "image.png": {
     "image/png": "[encoded data removed]"
    }
   },
   "cell_type": "markdown",
   "id": "5991c394",
   "metadata": {},
   "source": [
    "![image.png](attachment:image.png)"
   ]
  },
  {
   "cell_type": "markdown",
   "id": "8b0c907a",
   "metadata": {},
   "source": [
    "Let's start from Employee considering that `TemporarySecretary` inherits from `Secreatary` and `HourlyEmployee` (the ordef affect the result)."
   ]
  },
  {
   "cell_type": "markdown",
   "id": "740596b5",
   "metadata": {},
   "source": [
    "L(E) = [E] (the base itself)\\\n",
    "L(SE) = [SE] + merge(L(E), [E])\\\n",
    "L(SE) = [SE] + merge([E], [E])\\\n",
    "L(SE) = [SE, E]\\\n",
    "L(HE) = [HE] + merge(L(E), [E])\\\n",
    "L(HE) = [HE] + merge([E], [E])\\\n",
    "L(HE) = [HE, E] (The same of SE)\\\n",
    "L(S) = [S] + merge(L(SE), [SE])\\\n",
    "L(S) = [S] + merge([SE, E], [E])\\\n",
    "L(S) = [S, SE, E]\n",
    "\n",
    "L(TS) = [TS] + merge(L(S), [S], L(HE), [HE])\\\n",
    "L(TS) = [TS] + merge([S, SE, E], [S], [HE, E], [HE])\\\n",
    "L(TS) = [TS, S, SE, HE, E]"
   ]
  },
  {
   "cell_type": "markdown",
   "id": "8a6b914d",
   "metadata": {},
   "source": [
    "### Let's do now, inverting the inheritance order"
   ]
  },
  {
   "cell_type": "code",
   "execution_count": 206,
   "id": "035e30ef",
   "metadata": {},
   "outputs": [],
   "source": [
    "class TemporarySecretary(HourlyEmployee, Secretary):\n",
    "    pass"
   ]
  },
  {
   "cell_type": "markdown",
   "id": "9395faf8",
   "metadata": {},
   "source": [
    "L(E) = E\n",
    "\n",
    "L(HE) = [HE, E]\\\n",
    "L(SE) = [SE, E]\n",
    "\n",
    "L(S) = [S] + merge(L(SE), [SE]) \\\n",
    "L(S) = [S] + merge([SE, E], [SE])\\\n",
    "L(S) = [S, SE, E]\n",
    "\n",
    "L[TS] = [TS] + merge(L[HE], L[S], [HE, S])\\\n",
    "L[TS] = [TS] + merge([HE, E], [S, SE, E], [HE, S])\\\n",
    "L[TS] = [TS, HE, S, SE, E]"
   ]
  },
  {
   "cell_type": "code",
   "execution_count": 208,
   "id": "b83094bd",
   "metadata": {},
   "outputs": [
    {
     "data": {
      "text/plain": [
       "(__main__.TemporarySecretary,\n",
       " __main__.HourlyEmployee,\n",
       " __main__.Secretary,\n",
       " __main__.SalaryEmployee,\n",
       " __main__.Employee,\n",
       " abc.ABC,\n",
       " object)"
      ]
     },
     "execution_count": 208,
     "metadata": {},
     "output_type": "execute_result"
    }
   ],
   "source": [
    "TemporarySecretary.__mro__"
   ]
  },
  {
   "cell_type": "markdown",
   "id": "baa5ad62",
   "metadata": {},
   "source": [
    "Nice!\n",
    "Now, I know a interesting thing to talk about in an interview."
   ]
  },
  {
   "cell_type": "code",
   "execution_count": null,
   "id": "74a6473c",
   "metadata": {},
   "outputs": [],
   "source": []
  }
 ],
 "metadata": {
  "kernelspec": {
   "display_name": "Python 3",
   "language": "python",
   "name": "python3"
  },
  "language_info": {
   "codemirror_mode": {
    "name": "ipython",
    "version": 3
   },
   "file_extension": ".py",
   "mimetype": "text/x-python",
   "name": "python",
   "nbconvert_exporter": "python",
   "pygments_lexer": "ipython3",
   "version": "3.8.8"
  }
 },
 "nbformat": 4,
 "nbformat_minor": 5
}
