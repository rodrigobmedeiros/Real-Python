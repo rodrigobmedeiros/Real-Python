{
 "cells": [
  {
   "cell_type": "markdown",
   "id": "99b86704",
   "metadata": {},
   "source": [
    "__Instance Method:__\n",
    "- Can modify the instance state\n",
    "- Can modify the class state\n",
    "\n",
    "__Class Method:__\n",
    "- Can't modify the instance state\n",
    "- Can modify the class state\n",
    "\n",
    "__Static Method:__\n",
    "- Can't modify the instace state\n",
    "- Can't modify the class state"
   ]
  },
  {
   "cell_type": "code",
   "execution_count": 1,
   "id": "0c16b074",
   "metadata": {},
   "outputs": [],
   "source": [
    "class MyClass():\n",
    "    \n",
    "    def method(self):\n",
    "        \n",
    "        return 'instance method called', self\n",
    "    \n",
    "    @classmethod\n",
    "    def classmethod(cls):\n",
    "        \n",
    "        return 'class method called', cls\n",
    "    \n",
    "    @staticmethod\n",
    "    def staticmethod():\n",
    "        \n",
    "        return 'static method called'"
   ]
  },
  {
   "cell_type": "code",
   "execution_count": 3,
   "id": "c49344bc",
   "metadata": {},
   "outputs": [],
   "source": [
    "my_class = MyClass()"
   ]
  },
  {
   "cell_type": "code",
   "execution_count": 6,
   "id": "86eff786",
   "metadata": {},
   "outputs": [
    {
     "data": {
      "text/plain": [
       "('instance method called', <__main__.MyClass at 0x281157261c0>)"
      ]
     },
     "execution_count": 6,
     "metadata": {},
     "output_type": "execute_result"
    }
   ],
   "source": [
    "my_class.method()"
   ]
  },
  {
   "cell_type": "code",
   "execution_count": 4,
   "id": "fa102f85",
   "metadata": {},
   "outputs": [
    {
     "data": {
      "text/plain": [
       "('class method called', __main__.MyClass)"
      ]
     },
     "execution_count": 4,
     "metadata": {},
     "output_type": "execute_result"
    }
   ],
   "source": [
    "my_class.classmethod()"
   ]
  },
  {
   "cell_type": "code",
   "execution_count": 5,
   "id": "7821d988",
   "metadata": {},
   "outputs": [
    {
     "data": {
      "text/plain": [
       "'static method called'"
      ]
     },
     "execution_count": 5,
     "metadata": {},
     "output_type": "execute_result"
    }
   ],
   "source": [
    "my_class.staticmethod()"
   ]
  },
  {
   "cell_type": "markdown",
   "id": "ad795d13",
   "metadata": {},
   "source": [
    "I can observe that when I call `method()`, I get back the string and the self, that is a MyClass instance, with a `__repr__` that show where this object was allocated into memory.\n"
   ]
  },
  {
   "cell_type": "markdown",
   "id": "51765c8b",
   "metadata": {},
   "source": [
    "When I call `classmethod()` I get the class what can be observed with the return `__main__.MyClass`. There's no object created at this time. "
   ]
  },
  {
   "cell_type": "markdown",
   "id": "89194a8e",
   "metadata": {},
   "source": [
    "Thi modification in access between class and instance probably was done by the decorator @classmethod"
   ]
  },
  {
   "cell_type": "code",
   "execution_count": 7,
   "id": "6a15e843",
   "metadata": {},
   "outputs": [
    {
     "data": {
      "text/plain": [
       "'static method called'"
      ]
     },
     "execution_count": 7,
     "metadata": {},
     "output_type": "execute_result"
    }
   ],
   "source": [
    "my_class.staticmethod()"
   ]
  },
  {
   "cell_type": "markdown",
   "id": "b340399c",
   "metadata": {},
   "source": [
    "# Example:"
   ]
  },
  {
   "cell_type": "code",
   "execution_count": 8,
   "id": "08f27af4",
   "metadata": {},
   "outputs": [],
   "source": [
    "class Pizza:\n",
    "    def __init__(self, ingredients):\n",
    "        self.ingredients = ingredients\n",
    "        \n",
    "    def __repr__(self):\n",
    "        return f'Pizza({self.ingredients})'"
   ]
  },
  {
   "cell_type": "code",
   "execution_count": 9,
   "id": "b84bfd69",
   "metadata": {},
   "outputs": [
    {
     "data": {
      "text/plain": [
       "Pizza(['cheese', 'tomatoes'])"
      ]
     },
     "execution_count": 9,
     "metadata": {},
     "output_type": "execute_result"
    }
   ],
   "source": [
    "Pizza(['cheese', 'tomatoes'])"
   ]
  },
  {
   "cell_type": "markdown",
   "id": "8b2d995c",
   "metadata": {},
   "source": [
    "Here, I have a example how to use `@classmethods`. The idea is when I have a complex init process for the class, I can define classmethods to return instances of the class to avoid unecessary complexity.\\\n",
    "Considering the `Pizza` example, I can create new pizzas with whatever ingredients I want but using `@classmethods` I can pre-define well-known flavours without have to pass through all init proces where each method will be a flavour. So if I want to create a new pizza flavour for example with ham, sausage, mushrooms, cheese, lettuce I can! But if I want to create a mussarela pizza I'll just call the `@classmethod` responsible to return the instance with the ingredients. Remember the bite I solved, the `Domain` class do something like that, I have the class with attributes and methods but I have two `@classmethods` to treat urls and emails and take care of the complexity returning Domain instances. This kind of methods are called factory and return an instance of the class where they are implemented. This complexity would be implemented out of the class but using `@classmethods` I can insert them into the same context.\n",
    "I can use this idea to rebuild the reports from PDMS."
   ]
  },
  {
   "cell_type": "code",
   "execution_count": 10,
   "id": "1a4be765",
   "metadata": {},
   "outputs": [],
   "source": [
    "class Pizza:\n",
    "    def __init__(self, ingredients):\n",
    "        self.ingredients = ingredients\n",
    "        \n",
    "    def __repr__(self):\n",
    "        return f'Pizza({self.ingredients})'\n",
    "    \n",
    "    @classmethod\n",
    "    def margherita(cls):\n",
    "        return cls(['cheese', 'tomatoes'])\n",
    "    \n",
    "    @classmethod\n",
    "    def prosciutto(cls):\n",
    "        return cls(['cheese', 'tomatoes', 'ham', 'mushrooms'])"
   ]
  },
  {
   "cell_type": "code",
   "execution_count": 11,
   "id": "4164255c",
   "metadata": {},
   "outputs": [],
   "source": [
    "pizza = Pizza(['cheese', 'sausage'])"
   ]
  },
  {
   "cell_type": "code",
   "execution_count": 13,
   "id": "74395733",
   "metadata": {},
   "outputs": [
    {
     "data": {
      "text/plain": [
       "Pizza(['cheese', 'tomatoes'])"
      ]
     },
     "execution_count": 13,
     "metadata": {},
     "output_type": "execute_result"
    }
   ],
   "source": [
    "Pizza.margherita()"
   ]
  },
  {
   "cell_type": "code",
   "execution_count": 14,
   "id": "0571ff71",
   "metadata": {},
   "outputs": [
    {
     "data": {
      "text/plain": [
       "Pizza(['cheese', 'tomatoes'])"
      ]
     },
     "execution_count": 14,
     "metadata": {},
     "output_type": "execute_result"
    }
   ],
   "source": [
    "pizza.margherita()"
   ]
  },
  {
   "cell_type": "markdown",
   "id": "c31eb75f",
   "metadata": {},
   "source": [
    "I can work with `classmethods` with class and `instance`"
   ]
  },
  {
   "cell_type": "markdown",
   "id": "c1432be9",
   "metadata": {},
   "source": [
    "# Static Method\n",
    "\n",
    "The example used wat not so usefull but the concept was learnt. The ideia is have a method that don't change class or instance status but you can use internally. And because it's kind of general thing people outside can use it too. It's a good hint to test for example."
   ]
  },
  {
   "cell_type": "code",
   "execution_count": 17,
   "id": "e17398b4",
   "metadata": {},
   "outputs": [],
   "source": [
    "import math\n",
    "\n",
    "class Pizza:\n",
    "    def __init__(self, radius, ingredients):\n",
    "        self.ingredients = ingredients\n",
    "        self.radius = radius\n",
    "        \n",
    "    def __repr__(self):\n",
    "        return f'Pizza({self.ingredients})'\n",
    "    \n",
    "    def area(self):\n",
    "        return self._circle_area(self.radius)\n",
    "    \n",
    "    @staticmethod\n",
    "    def _circle_area(r):\n",
    "        return math.pi * r ** 2\n",
    "    \n",
    "    @classmethod\n",
    "    def margherita(cls):\n",
    "        return cls(['cheese', 'tomatoes'])\n",
    "    \n",
    "    @classmethod\n",
    "    def prosciutto(cls):\n",
    "        return cls(['cheese', 'tomatoes', 'ham', 'mushrooms'])"
   ]
  },
  {
   "cell_type": "code",
   "execution_count": 18,
   "id": "c62b074e",
   "metadata": {},
   "outputs": [],
   "source": [
    "pizza = Pizza(2, ['cheese'])"
   ]
  },
  {
   "cell_type": "markdown",
   "id": "fe20357b",
   "metadata": {},
   "source": [
    "Good Subject for youtube video"
   ]
  }
 ],
 "metadata": {
  "kernelspec": {
   "display_name": "Python 3",
   "language": "python",
   "name": "python3"
  },
  "language_info": {
   "codemirror_mode": {
    "name": "ipython",
    "version": 3
   },
   "file_extension": ".py",
   "mimetype": "text/x-python",
   "name": "python",
   "nbconvert_exporter": "python",
   "pygments_lexer": "ipython3",
   "version": "3.8.8"
  }
 },
 "nbformat": 4,
 "nbformat_minor": 5
}
